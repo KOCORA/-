{
  "cells": [
    {
      "cell_type": "markdown",
      "metadata": {
        "id": "view-in-github",
        "colab_type": "text"
      },
      "source": [
        "<a href=\"https://colab.research.google.com/github/KOCORA/Deep-Learning-.-.-/blob/master/04_Optim%26Lightning.ipynb\" target=\"_parent\"><img src=\"https://colab.research.google.com/assets/colab-badge.svg\" alt=\"Open In Colab\"/></a>"
      ]
    },
    {
      "cell_type": "markdown",
      "metadata": {
        "id": "JlQl9ihB5T9p"
      },
      "source": [
        "# Семинар 4: Методы оптимизации, PyTorch Lightning\n",
        "\n",
        "## Вступление\n",
        "На предыдущем курсе мы обсуждали с вами методы градиентного спуска и стохастического градиентного спуска. Для нейронных сетей обычно используют более продвинутые методы оптимизации, которые основаны на известном нам градиентном спуске. Сегодня мы посмотрим на то, как использовать их в **PyTorch**, а также разберём библиотеку **PyTorch Lightning**, позволяющую сократить количество кода, которое нам приходится писать на **PyTorch**.\n",
        "\n",
        "### План семинара\n",
        "1. Оптимизируем функцию одной переменной в **PyTorch**\n",
        "2. Изучаем разные методы оптимизации\n",
        "3. Работаем с PyTorch Optimizer\n",
        "4. Работаем с PyTorch Scheduler\n",
        "5. PyTorch VS PyTorch Lightning\n",
        "6. Сравнением работу разных оптимизаторов"
      ]
    },
    {
      "cell_type": "code",
      "execution_count": 1,
      "metadata": {
        "id": "X9-5GA_L5T9q",
        "colab": {
          "base_uri": "https://localhost:8080/"
        },
        "outputId": "a1185017-32e0-4bde-e6a2-9accca302eee"
      },
      "outputs": [
        {
          "output_type": "stream",
          "name": "stdout",
          "text": [
            "Collecting pytorch_lightning\n",
            "  Downloading pytorch_lightning-2.2.0.post0-py3-none-any.whl (800 kB)\n",
            "\u001b[2K     \u001b[90m━━━━━━━━━━━━━━━━━━━━━━━━━━━━━━━━━━━━━━━━\u001b[0m \u001b[32m800.9/800.9 kB\u001b[0m \u001b[31m6.8 MB/s\u001b[0m eta \u001b[36m0:00:00\u001b[0m\n",
            "\u001b[?25hCollecting torchmetrics\n",
            "  Downloading torchmetrics-1.3.1-py3-none-any.whl (840 kB)\n",
            "\u001b[2K     \u001b[90m━━━━━━━━━━━━━━━━━━━━━━━━━━━━━━━━━━━━━━━━\u001b[0m \u001b[32m840.4/840.4 kB\u001b[0m \u001b[31m9.8 MB/s\u001b[0m eta \u001b[36m0:00:00\u001b[0m\n",
            "\u001b[?25hRequirement already satisfied: torchvision in /usr/local/lib/python3.10/dist-packages (0.16.0+cu121)\n",
            "Requirement already satisfied: numpy>=1.17.2 in /usr/local/lib/python3.10/dist-packages (from pytorch_lightning) (1.25.2)\n",
            "Requirement already satisfied: torch>=1.13.0 in /usr/local/lib/python3.10/dist-packages (from pytorch_lightning) (2.1.0+cu121)\n",
            "Requirement already satisfied: tqdm>=4.57.0 in /usr/local/lib/python3.10/dist-packages (from pytorch_lightning) (4.66.2)\n",
            "Requirement already satisfied: PyYAML>=5.4 in /usr/local/lib/python3.10/dist-packages (from pytorch_lightning) (6.0.1)\n",
            "Requirement already satisfied: fsspec[http]>=2022.5.0 in /usr/local/lib/python3.10/dist-packages (from pytorch_lightning) (2023.6.0)\n",
            "Requirement already satisfied: packaging>=20.0 in /usr/local/lib/python3.10/dist-packages (from pytorch_lightning) (23.2)\n",
            "Requirement already satisfied: typing-extensions>=4.4.0 in /usr/local/lib/python3.10/dist-packages (from pytorch_lightning) (4.10.0)\n",
            "Collecting lightning-utilities>=0.8.0 (from pytorch_lightning)\n",
            "  Downloading lightning_utilities-0.10.1-py3-none-any.whl (24 kB)\n",
            "Requirement already satisfied: requests in /usr/local/lib/python3.10/dist-packages (from torchvision) (2.31.0)\n",
            "Requirement already satisfied: pillow!=8.3.*,>=5.3.0 in /usr/local/lib/python3.10/dist-packages (from torchvision) (9.4.0)\n",
            "Requirement already satisfied: filelock in /usr/local/lib/python3.10/dist-packages (from torch>=1.13.0->pytorch_lightning) (3.13.1)\n",
            "Requirement already satisfied: sympy in /usr/local/lib/python3.10/dist-packages (from torch>=1.13.0->pytorch_lightning) (1.12)\n",
            "Requirement already satisfied: networkx in /usr/local/lib/python3.10/dist-packages (from torch>=1.13.0->pytorch_lightning) (3.2.1)\n",
            "Requirement already satisfied: jinja2 in /usr/local/lib/python3.10/dist-packages (from torch>=1.13.0->pytorch_lightning) (3.1.3)\n",
            "Requirement already satisfied: triton==2.1.0 in /usr/local/lib/python3.10/dist-packages (from torch>=1.13.0->pytorch_lightning) (2.1.0)\n",
            "Requirement already satisfied: aiohttp!=4.0.0a0,!=4.0.0a1 in /usr/local/lib/python3.10/dist-packages (from fsspec[http]>=2022.5.0->pytorch_lightning) (3.9.3)\n",
            "Requirement already satisfied: setuptools in /usr/local/lib/python3.10/dist-packages (from lightning-utilities>=0.8.0->pytorch_lightning) (67.7.2)\n",
            "Requirement already satisfied: charset-normalizer<4,>=2 in /usr/local/lib/python3.10/dist-packages (from requests->torchvision) (3.3.2)\n",
            "Requirement already satisfied: idna<4,>=2.5 in /usr/local/lib/python3.10/dist-packages (from requests->torchvision) (3.6)\n",
            "Requirement already satisfied: urllib3<3,>=1.21.1 in /usr/local/lib/python3.10/dist-packages (from requests->torchvision) (2.0.7)\n",
            "Requirement already satisfied: certifi>=2017.4.17 in /usr/local/lib/python3.10/dist-packages (from requests->torchvision) (2024.2.2)\n",
            "Requirement already satisfied: aiosignal>=1.1.2 in /usr/local/lib/python3.10/dist-packages (from aiohttp!=4.0.0a0,!=4.0.0a1->fsspec[http]>=2022.5.0->pytorch_lightning) (1.3.1)\n",
            "Requirement already satisfied: attrs>=17.3.0 in /usr/local/lib/python3.10/dist-packages (from aiohttp!=4.0.0a0,!=4.0.0a1->fsspec[http]>=2022.5.0->pytorch_lightning) (23.2.0)\n",
            "Requirement already satisfied: frozenlist>=1.1.1 in /usr/local/lib/python3.10/dist-packages (from aiohttp!=4.0.0a0,!=4.0.0a1->fsspec[http]>=2022.5.0->pytorch_lightning) (1.4.1)\n",
            "Requirement already satisfied: multidict<7.0,>=4.5 in /usr/local/lib/python3.10/dist-packages (from aiohttp!=4.0.0a0,!=4.0.0a1->fsspec[http]>=2022.5.0->pytorch_lightning) (6.0.5)\n",
            "Requirement already satisfied: yarl<2.0,>=1.0 in /usr/local/lib/python3.10/dist-packages (from aiohttp!=4.0.0a0,!=4.0.0a1->fsspec[http]>=2022.5.0->pytorch_lightning) (1.9.4)\n",
            "Requirement already satisfied: async-timeout<5.0,>=4.0 in /usr/local/lib/python3.10/dist-packages (from aiohttp!=4.0.0a0,!=4.0.0a1->fsspec[http]>=2022.5.0->pytorch_lightning) (4.0.3)\n",
            "Requirement already satisfied: MarkupSafe>=2.0 in /usr/local/lib/python3.10/dist-packages (from jinja2->torch>=1.13.0->pytorch_lightning) (2.1.5)\n",
            "Requirement already satisfied: mpmath>=0.19 in /usr/local/lib/python3.10/dist-packages (from sympy->torch>=1.13.0->pytorch_lightning) (1.3.0)\n",
            "Installing collected packages: lightning-utilities, torchmetrics, pytorch_lightning\n",
            "Successfully installed lightning-utilities-0.10.1 pytorch_lightning-2.2.0.post0 torchmetrics-1.3.1\n"
          ]
        }
      ],
      "source": [
        "!pip3 install pytorch_lightning torchmetrics torchvision"
      ]
    },
    {
      "cell_type": "code",
      "execution_count": 16,
      "metadata": {
        "id": "lUJcEdalKlZn"
      },
      "outputs": [],
      "source": [
        "import os\n",
        "import random\n",
        "import sys\n",
        "\n",
        "import matplotlib.pyplot as plt\n",
        "import numpy as np\n",
        "import torch\n",
        "from tqdm import tqdm"
      ]
    },
    {
      "cell_type": "code",
      "execution_count": 17,
      "metadata": {
        "id": "PGd36K4dlgL5"
      },
      "outputs": [],
      "source": [
        "\n",
        "def seed_everything(seed):\n",
        "    # фискирует максимум сидов для корректности сравнения разных экспериментов\n",
        "    random.seed(seed)\n",
        "    os.environ[\"PYTHONHASHSEED\"] = str(seed)\n",
        "    np.random.seed(seed)\n",
        "    torch.manual_seed(seed)\n",
        "    torch.cuda.manual_seed(seed)\n",
        "    torch.backends.cudnn.deterministic = True\n",
        "\n",
        "\n",
        "seed_everything(0xBADBEEF)\n",
        "device = torch.device(\"cuda\") if torch.cuda.is_available() else torch.device(\"cpu\")"
      ]
    },
    {
      "cell_type": "markdown",
      "metadata": {
        "id": "kD68Ub9hKlZy"
      },
      "source": [
        "## Оптимизируем функцию одной переменной в **PyTorch**\n",
        "Как вам показали на лекции, большинство методов машинного обучения сводятся к простому поиску параметров, который бы минимизировал ошибку на тренировочной выборке:\n",
        "$$\n",
        "\\min_{\\theta}L(p_{\\theta}(X), Y)\n",
        "$$\n",
        "Здесь:\n",
        "* $L$ - некоторый лосс,\n",
        "* $p_{\\theta}$ - нейронная сеть с параметрами $\\theta$\n",
        "* $X$ - данные для обучения,\n",
        "* $Y$ - ответы\n",
        "\n",
        "Давайте руками напишем алгоритм для поиска минимума функции $f(x) = x^{3} - 2x^{2} + 2$."
      ]
    },
    {
      "cell_type": "code",
      "execution_count": 24,
      "metadata": {
        "id": "6RDPRKKHKlZ0",
        "colab": {
          "base_uri": "https://localhost:8080/",
          "height": 435
        },
        "outputId": "2cb70423-23d6-444f-d529-906482a547a4"
      },
      "outputs": [
        {
          "output_type": "display_data",
          "data": {
            "text/plain": [
              "<Figure size 640x480 with 1 Axes>"
            ],
            "image/png": "[encoded data removed]"
          },
          "metadata": {}
        }
      ],
      "source": [
        "# наша функция f(x)\n",
        "func = lambda x: x**3 - 2 * x**2 + 2\n",
        "# производная функции f(x)\n",
        "d_func = lambda x: 3 * x**2 - 4 * x\n",
        "# сделаем массив из 1000 элементов от -3 до 3\n",
        "x = np.linspace(-3, 3, 1000)\n",
        "# определим границы по y для графика\n",
        "plt.ylim([-1, 3])\n",
        "plt.plot(x, func(x))\n",
        "plt.grid()\n",
        "plt.show()"
      ]
    },
    {
      "cell_type": "markdown",
      "metadata": {
        "id": "NYQ4OyiUKlZ4"
      },
      "source": [
        "Определим функцию для оптимизации $f(x)$, которая должна принимать на вход learning rate и максимальное количество итераций."
      ]
    },
    {
      "cell_type": "code",
      "execution_count": 27,
      "metadata": {
        "id": "dQ_QI8CiKlZ5"
      },
      "outputs": [],
      "source": [
        "def find_minimum_first_order(\n",
        "    learning_rate=0.01, eps=1e-4, max_iterations=1000, anneal_learning_rate=None\n",
        "):\n",
        "    i = 0\n",
        "    x_old, x_new = 0, 2\n",
        "    # будем сохранять историю значений x и y\n",
        "    x_list, y_list = [x_old], [func(x_old)]\n",
        "    if not anneal_learning_rate:\n",
        "        anneal_learning_rate = lambda lr, step: lr\n",
        "\n",
        "    # TODO:\n",
        "    # Your code here\n",
        "    # --------------\n",
        "    while abs(x_new - x_old) > eps and i < max_iterations:\n",
        "        learning_rate = anneal_learning_rate(learning_rate, step=i)\n",
        "        x_old = x_new\n",
        "        x_new = x_old - learning_rate * d_func(x_old)\n",
        "        x_list.append(x_new)\n",
        "        y_list.append(func(x_new))\n",
        "        i += 1\n",
        "    # --------------\n",
        "    print(\"Найденный локальный минимум:\", x_new)\n",
        "    print(\"Количество шагов:\", len(x_list))\n",
        "    # Визуализируем сходимость\n",
        "    plt.figure(figsize=[6, 4])\n",
        "    plt.ylim([-3, 8])\n",
        "    plt.scatter(x_list, y_list, c=\"r\", edgecolors=\"k\")\n",
        "    plt.plot(x_list, y_list, c=\"r\")\n",
        "    plt.plot(x, func(x), c=\"b\")\n",
        "    plt.title(\"Descent trajectory\")\n",
        "    plt.grid()\n",
        "    plt.show()"
      ]
    },
    {
      "cell_type": "markdown",
      "metadata": {
        "id": "iBakKAc4KlZ8"
      },
      "source": [
        "Попробуем различные `learning_rate` и посмотрим на поведение оптимизации."
      ]
    },
    {
      "cell_type": "code",
      "execution_count": 28,
      "metadata": {
        "id": "kBe4cH6vKlZ9",
        "colab": {
          "base_uri": "https://localhost:8080/",
          "height": 426
        },
        "outputId": "475d4de2-8abe-485d-cdd4-942a2c748cd4"
      },
      "outputs": [
        {
          "output_type": "stream",
          "name": "stdout",
          "text": [
            "Найденный локальный минимум: 1.3577577123861129\n",
            "Количество шагов: 729\n"
          ]
        },
        {
          "output_type": "display_data",
          "data": {
            "text/plain": [
              "<Figure size 600x400 with 1 Axes>"
            ],
            "image/png": "[encoded data removed]"
          },
          "metadata": {}
        }
      ],
      "source": [
        "find_minimum_first_order(0.001)"
      ]
    },
    {
      "cell_type": "markdown",
      "metadata": {
        "id": "U6qHwvrQKlaA"
      },
      "source": [
        "Слишком мало, будем очень долго идти к локальному минимуму."
      ]
    },
    {
      "cell_type": "code",
      "execution_count": 29,
      "metadata": {
        "id": "4fJFR4SlKlaB",
        "colab": {
          "base_uri": "https://localhost:8080/",
          "height": 426
        },
        "outputId": "90e9b41d-24c5-4a57-b72d-2116d7e27cad"
      },
      "outputs": [
        {
          "output_type": "stream",
          "name": "stdout",
          "text": [
            "Найденный локальный минимум: 1.3356881625009205\n",
            "Количество шагов: 129\n"
          ]
        },
        {
          "output_type": "display_data",
          "data": {
            "text/plain": [
              "<Figure size 600x400 with 1 Axes>"
            ],
            "image/png": "[encoded data removed]"
          },
          "metadata": {}
        }
      ],
      "source": [
        "find_minimum_first_order(0.01)"
      ]
    },
    {
      "cell_type": "markdown",
      "metadata": {
        "id": "tyeqRTitKlaF"
      },
      "source": [
        "Уже лучше."
      ]
    },
    {
      "cell_type": "code",
      "execution_count": 30,
      "metadata": {
        "id": "AEX-iPPJKlaF",
        "colab": {
          "base_uri": "https://localhost:8080/",
          "height": 426
        },
        "outputId": "5358699f-b85d-4521-8570-8cd9e1953cf5"
      },
      "outputs": [
        {
          "output_type": "stream",
          "name": "stdout",
          "text": [
            "Найденный локальный минимум: 1.3333495713163788\n",
            "Количество шагов: 8\n"
          ]
        },
        {
          "output_type": "display_data",
          "data": {
            "text/plain": [
              "<Figure size 600x400 with 1 Axes>"
            ],
            "image/png": "[encoded data removed]"
          },
          "metadata": {}
        }
      ],
      "source": [
        "find_minimum_first_order(0.3)"
      ]
    },
    {
      "cell_type": "code",
      "execution_count": 31,
      "metadata": {
        "id": "6Xz1B6hyKlaI",
        "colab": {
          "base_uri": "https://localhost:8080/",
          "height": 287
        },
        "outputId": "7cc6c449-2a66-4579-8670-97004f6e4b78"
      },
      "outputs": [
        {
          "output_type": "error",
          "ename": "OverflowError",
          "evalue": "(34, 'Numerical result out of range')",
          "traceback": [
            "\u001b[0;31m---------------------------------------------------------------------------\u001b[0m",
            "\u001b[0;31mOverflowError\u001b[0m                             Traceback (most recent call last)",
            "\u001b[0;32m<ipython-input-31-17e1bed5c8ec>\u001b[0m in \u001b[0;36m<cell line: 1>\u001b[0;34m()\u001b[0m\n\u001b[0;32m----> 1\u001b[0;31m \u001b[0mfind_minimum_first_order\u001b[0m\u001b[0;34m(\u001b[0m\u001b[0;36m0.6\u001b[0m\u001b[0;34m)\u001b[0m\u001b[0;34m\u001b[0m\u001b[0;34m\u001b[0m\u001b[0m\n\u001b[0m",
            "\u001b[0;32m<ipython-input-27-8700a77e041d>\u001b[0m in \u001b[0;36mfind_minimum_first_order\u001b[0;34m(learning_rate, eps, max_iterations, anneal_learning_rate)\u001b[0m\n\u001b[1;32m     17\u001b[0m         \u001b[0mx_new\u001b[0m \u001b[0;34m=\u001b[0m \u001b[0mx_old\u001b[0m \u001b[0;34m-\u001b[0m \u001b[0mlearning_rate\u001b[0m \u001b[0;34m*\u001b[0m \u001b[0md_func\u001b[0m\u001b[0;34m(\u001b[0m\u001b[0mx_old\u001b[0m\u001b[0;34m)\u001b[0m\u001b[0;34m\u001b[0m\u001b[0;34m\u001b[0m\u001b[0m\n\u001b[1;32m     18\u001b[0m         \u001b[0mx_list\u001b[0m\u001b[0;34m.\u001b[0m\u001b[0mappend\u001b[0m\u001b[0;34m(\u001b[0m\u001b[0mx_new\u001b[0m\u001b[0;34m)\u001b[0m\u001b[0;34m\u001b[0m\u001b[0;34m\u001b[0m\u001b[0m\n\u001b[0;32m---> 19\u001b[0;31m         \u001b[0my_list\u001b[0m\u001b[0;34m.\u001b[0m\u001b[0mappend\u001b[0m\u001b[0;34m(\u001b[0m\u001b[0mfunc\u001b[0m\u001b[0;34m(\u001b[0m\u001b[0mx_new\u001b[0m\u001b[0;34m)\u001b[0m\u001b[0;34m)\u001b[0m\u001b[0;34m\u001b[0m\u001b[0;34m\u001b[0m\u001b[0m\n\u001b[0m\u001b[1;32m     20\u001b[0m         \u001b[0mi\u001b[0m \u001b[0;34m+=\u001b[0m \u001b[0;36m1\u001b[0m\u001b[0;34m\u001b[0m\u001b[0;34m\u001b[0m\u001b[0m\n\u001b[1;32m     21\u001b[0m     \u001b[0;31m# --------------\u001b[0m\u001b[0;34m\u001b[0m\u001b[0;34m\u001b[0m\u001b[0m\n",
            "\u001b[0;32m<ipython-input-24-c99bd9e0d935>\u001b[0m in \u001b[0;36m<lambda>\u001b[0;34m(x)\u001b[0m\n\u001b[1;32m      1\u001b[0m \u001b[0;31m# наша функция f(x)\u001b[0m\u001b[0;34m\u001b[0m\u001b[0;34m\u001b[0m\u001b[0m\n\u001b[0;32m----> 2\u001b[0;31m \u001b[0mfunc\u001b[0m \u001b[0;34m=\u001b[0m \u001b[0;32mlambda\u001b[0m \u001b[0mx\u001b[0m\u001b[0;34m:\u001b[0m \u001b[0mx\u001b[0m\u001b[0;34m**\u001b[0m\u001b[0;36m3\u001b[0m \u001b[0;34m-\u001b[0m \u001b[0;36m2\u001b[0m \u001b[0;34m*\u001b[0m \u001b[0mx\u001b[0m\u001b[0;34m**\u001b[0m\u001b[0;36m2\u001b[0m \u001b[0;34m+\u001b[0m \u001b[0;36m2\u001b[0m\u001b[0;34m\u001b[0m\u001b[0;34m\u001b[0m\u001b[0m\n\u001b[0m\u001b[1;32m      3\u001b[0m \u001b[0;31m# производная функции f(x)\u001b[0m\u001b[0;34m\u001b[0m\u001b[0;34m\u001b[0m\u001b[0m\n\u001b[1;32m      4\u001b[0m \u001b[0md_func\u001b[0m \u001b[0;34m=\u001b[0m \u001b[0;32mlambda\u001b[0m \u001b[0mx\u001b[0m\u001b[0;34m:\u001b[0m \u001b[0;36m3\u001b[0m \u001b[0;34m*\u001b[0m \u001b[0mx\u001b[0m\u001b[0;34m**\u001b[0m\u001b[0;36m2\u001b[0m \u001b[0;34m-\u001b[0m \u001b[0;36m4\u001b[0m \u001b[0;34m*\u001b[0m \u001b[0mx\u001b[0m\u001b[0;34m\u001b[0m\u001b[0;34m\u001b[0m\u001b[0m\n\u001b[1;32m      5\u001b[0m \u001b[0;31m# сделаем массив из 1000 элементов от -3 до 3\u001b[0m\u001b[0;34m\u001b[0m\u001b[0;34m\u001b[0m\u001b[0m\n",
            "\u001b[0;31mOverflowError\u001b[0m: (34, 'Numerical result out of range')"
          ]
        }
      ],
      "source": [
        "find_minimum_first_order(0.6)"
      ]
    },
    {
      "cell_type": "markdown",
      "metadata": {
        "id": "gTTbzvS0KlaM"
      },
      "source": [
        "Ууупс, получили Overflow. Значит learning rate слишком большой. Хотя большой learning rate опасен возможностью overflow у него есть ряд преимуществ. Чем больше темп обучения, тем большие расстояния мы преодолеваем за один шаг и тем выше вероятность быстрее найти хорошее пространство локальных минимумов.\n",
        "\n",
        "Хорошая стратегия — начинать с достаточно большого шага (чтобы хорошо попутешествовать по функции), а потом постепенно его уменьшать, чтобы стабилизировать процесс обучения в каком-то локальном минимуме."
      ]
    },
    {
      "cell_type": "code",
      "execution_count": 34,
      "metadata": {
        "id": "itCkyBdaKlaN",
        "colab": {
          "base_uri": "https://localhost:8080/",
          "height": 426
        },
        "outputId": "71d3c36a-b608-4c5f-c052-3c8dcaaac51c"
      },
      "outputs": [
        {
          "output_type": "stream",
          "name": "stdout",
          "text": [
            "Найденный локальный минимум: 1.294744839667743\n",
            "Количество шагов: 7\n"
          ]
        },
        {
          "output_type": "display_data",
          "data": {
            "text/plain": [
              "<Figure size 600x400 with 1 Axes>"
            ],
            "image/png": "[encoded data removed]"
          },
          "metadata": {}
        }
      ],
      "source": [
        "find_minimum_first_order(0.6, anneal_learning_rate=lambda lr, step: 0.3 * lr)"
      ]
    },
    {
      "cell_type": "markdown",
      "metadata": {
        "id": "pSMWbov7ZrSQ"
      },
      "source": [
        "## Изучаем разные методы оптимизации\n",
        "\n",
        "### Stochastic Gradient Descent\n",
        "SGD - этот же самый gradient descent, что мы рассматривали ранее, но подсчёт градиентов производится не по всему множеству данных, а по отдельно взятому сэмплу. Очевидно, такая оптимизация будет очень шумной, что усложнит обучение модели. Поэтому обычно используют MiniBatch-SGD, где вместо одного сэмпла мы берём $k$. У такого подхода ниже variance в сравнении с обычным SGD, что приводит к более стабильному процессу оптимизации. В том эе время нам всё ещё не нужно работать со всей выборкой одновременно, поэтому мы можем контролировать используемую память.\n",
        "\n",
        "$$\n",
        "\\begin{eqnarray}\n",
        "g &=& \\frac{1}{m}\\nabla_w \\sum_i L(f(x_{i};w), y_{i}) \\\\\n",
        "w &=& w - \\eta \\times g\n",
        "\\end{eqnarray}\n",
        "$$\n",
        "\n",
        "### Stochastic Gradient Descent with Momentum\n",
        "Попытаемся добавить SGD эффект инерции. Теперь, вместо того чтобы двигаться строго в направлении градиента в каждой точке, мы стараемся продолжить движение в том же направлении, в котором двигались ранее. То есть у нашей точки, которая спускается по многомерной поверхности, появляется импульс (momentum), который контролируется при помощи параметра $\\alpha$. Он определяет какую часть прошлого градиента мы хотим использовать на текущем шаге.\n",
        "$$\n",
        "\\begin{eqnarray}\n",
        "g_{t} &=& \\alpha g_{t-1} + \\eta \\frac{1}{m}\\nabla_w \\sum_i L(f(x_{i};w), y_{i}) \\\\\n",
        "w &=& w - \\eta \\times g\n",
        "\\end{eqnarray}\n",
        "$$\n",
        "\n",
        "![Momentum](https://github.com/hse-ds/iad-deep-learning/blob/master/2022/seminars/sem04/static/sgd_momentum.png?raw=1)\n",
        "\n",
        "### Адаптивные варианты градиентного спуска\n",
        "Во всех предыдущих алгоритмах у нас был фиксированный learning rate. Начиная с Adagrad у нас будет идти алгоритмы, которые подстраивают learning rate в зависимости от обучения. Они называются адаптивными вариантами градиентного спуска.\n",
        "\n",
        "Адаптивные варианты градиентного спуска подстраивает темп обучения таким образом, чтобы делать большие или маленькие обновления отдельных параметров. Например, может так сложиться, что некоторые веса близки к своим локальным минимумам, тогда по этим координатам нужно двигаться медленнее, а другие веса ещё только в середине, значит их можно менять гораздо быстрее. Подобные методы часты приводят к более обоснованной модели и сходятся гораздо быстрее.\n",
        "\n",
        "#### Adagrad\n",
        "$$\n",
        "\\begin{eqnarray}\n",
        "g &=& \\frac{1}{m}\\nabla_w \\sum_i L(f(x_{i};w), y_{i}) \\\\\n",
        "s &=& s + diag(gg^{T}) \\\\\n",
        "w &=& w - \\frac{\\eta}{\\sqrt{s+eps}} \\odot g\n",
        "\\end{eqnarray}\n",
        "$$\n",
        "Теперь нам не нужно сильно волноваться о правильном подборе $\\eta$, так как $s$ контролирует скорость обучения для каждого параметра.\n",
        "\n",
        "#### RMSprop\n",
        "У Adagrad есть сильный минус. $s$ - всегда положительна и постоянно растёт во время обучения, что приводит к ситуации, когда у нас learning rate становится слишком маленький, и мы перестаём учиться. RMSprop исправляет эту проблему при помощи экспоненциального сглаживания:\n",
        "\n",
        "$$\n",
        "\\begin{eqnarray}\n",
        "g &=& \\frac{1}{m}\\nabla_w \\sum_i L(f(x_{i};w), y_{i}) \\\\\n",
        "s &=& \\rho s + (1 - \\rho) diag(gg^{T}) \\\\\n",
        "w &=& w - \\frac{\\eta}{\\sqrt{s+eps}} \\odot g\n",
        "\\end{eqnarray}\n",
        "$$\n",
        "\n",
        "#### Adam\n",
        "Добавим не только моменты второго порядка, но и первого при обновлении параметров:\n",
        "\n",
        "$$\n",
        "\\begin{eqnarray}\n",
        "g &=& \\frac{1}{m}\\nabla_w \\sum_i L(f(x_{i};w), y_{i}) \\\\\n",
        "m &=& \\beta_1 m + (1 - \\beta_1) g \\\\\n",
        "v &=& \\beta_2 v + (1 - \\beta_2) diag(gg^{T}) \\\\\n",
        "\\hat{m} &=& \\frac{m}{1 - \\beta_1^{t}} \\\\\n",
        "\\hat{v} &=& \\frac{v}{1 - \\beta_2^{t}} \\\\\n",
        "w &=& w - \\frac{\\eta}{\\sqrt{\\hat{v} + \\epsilon}} \\odot \\hat{m}\n",
        "\\end{eqnarray}\n",
        "$$\n",
        "\n",
        "#### Схема\n",
        "![Sheme](https://github.com/hse-ds/iad-deep-learning/blob/master/2022/seminars/sem04/static/gd_scheme.png?raw=1)"
      ]
    },
    {
      "cell_type": "markdown",
      "metadata": {
        "id": "ZeCXawXsKlaX"
      },
      "source": [
        "### Работаем с PyTorch Optimizer\n",
        "\n",
        "Очевидно, что для своих нейронных сетей не нужно каждый раз писать свой алгоритм и за вас уже сделаны все самые популярные методы. Их можно найти в **torch.optim** или по [ссылке](https://pytorch.org/docs/stable/optim.html#algorithms)."
      ]
    },
    {
      "cell_type": "code",
      "execution_count": 83,
      "metadata": {
        "id": "8oraXo9DKlaX",
        "colab": {
          "base_uri": "https://localhost:8080/"
        },
        "outputId": "eb423072-b31b-404b-c794-b216126bded9"
      },
      "outputs": [
        {
          "output_type": "execute_result",
          "data": {
            "text/plain": [
              "['ASGD',\n",
              " 'Adadelta',\n",
              " 'Adagrad',\n",
              " 'Adam',\n",
              " 'AdamW',\n",
              " 'Adamax',\n",
              " 'LBFGS',\n",
              " 'NAdam',\n",
              " 'Optimizer',\n",
              " 'RAdam',\n",
              " 'RMSprop',\n",
              " 'Rprop',\n",
              " 'SGD',\n",
              " 'SparseAdam',\n",
              " 'lr_scheduler',\n",
              " 'swa_utils']"
            ]
          },
          "metadata": {},
          "execution_count": 83
        }
      ],
      "source": [
        "[elem for elem in dir(torch.optim) if not elem.startswith(\"_\")]"
      ]
    },
    {
      "cell_type": "markdown",
      "metadata": {
        "id": "-Xsq3M5VKlaa"
      },
      "source": [
        "Основные методы PyTorch Optimizer:\n",
        "* __step__ - обновление весов модели\n",
        "* __zero_grad__ - занулить веса модели (по умолчанию градиенты в PyTorch аккумулируются) ~ `for each param in params: param.grad = None`\n",
        "* __state_dict__ - получить текущее состояние Optimizer. Для адаптивных методов тут будут храниться аккумулированные квадраты градиентов\n",
        "\n",
        "\n",
        "### Как создать инстанс PyTorch Optimizer?\n",
        "\n",
        "Для того чтобы создать инстанс оптимизатора, достаточно передать ему параметры модели (их можно получить при помощи функции `parameters()`) и гиперпараметры для метода оптимизации.\n",
        "\n",
        "Пример:"
      ]
    },
    {
      "cell_type": "code",
      "execution_count": 84,
      "metadata": {
        "id": "KLLI3GbM89kb",
        "colab": {
          "base_uri": "https://localhost:8080/",
          "height": 204
        },
        "outputId": "d27fe531-bc57-4f3f-b040-42e74d1d55ce"
      },
      "outputs": [
        {
          "output_type": "execute_result",
          "data": {
            "text/plain": [
              "torch.optim.sgd.SGD"
            ],
            "text/html": [
              "<div style=\"max-width:800px; border: 1px solid var(--colab-border-color);\"><style>\n",
              "      pre.function-repr-contents {\n",
              "        overflow-x: auto;\n",
              "        padding: 8px 12px;\n",
              "        max-height: 500px;\n",
              "      }\n",
              "\n",
              "      pre.function-repr-contents.function-repr-contents-collapsed {\n",
              "        cursor: pointer;\n",
              "        max-height: 100px;\n",
              "      }\n",
              "    </style>\n",
              "    <pre style=\"white-space: initial; background:\n",
              "         var(--colab-secondary-surface-color); padding: 8px 12px;\n",
              "         border-bottom: 1px solid var(--colab-border-color);\"><b>torch.optim.sgd.SGD</b><br/>def __init__(params, lr=required, momentum=0, dampening=0, weight_decay=0, nesterov=False, *, maximize: bool=False, foreach: Optional[bool]=None, differentiable: bool=False)</pre><pre class=\"function-repr-contents function-repr-contents-collapsed\" style=\"\"><a class=\"filepath\" style=\"display:none\" href=\"#\">/usr/local/lib/python3.10/dist-packages/torch/optim/sgd.py</a>Implements stochastic gradient descent (optionally with momentum).\n",
              "\n",
              ".. math::\n",
              "   \\begin{aligned}\n",
              "        &amp;\\rule{110mm}{0.4pt}                                                                 \\\\\n",
              "        &amp;\\textbf{input}      : \\gamma \\text{ (lr)}, \\: \\theta_0 \\text{ (params)}, \\: f(\\theta)\n",
              "            \\text{ (objective)}, \\: \\lambda \\text{ (weight decay)},                          \\\\\n",
              "        &amp;\\hspace{13mm} \\:\\mu \\text{ (momentum)}, \\:\\tau \\text{ (dampening)},\n",
              "        \\:\\textit{ nesterov,}\\:\\textit{ maximize}                                     \\\\[-1.ex]\n",
              "        &amp;\\rule{110mm}{0.4pt}                                                                 \\\\\n",
              "        &amp;\\textbf{for} \\: t=1 \\: \\textbf{to} \\: \\ldots \\: \\textbf{do}                         \\\\\n",
              "        &amp;\\hspace{5mm}g_t           \\leftarrow   \\nabla_{\\theta} f_t (\\theta_{t-1})           \\\\\n",
              "        &amp;\\hspace{5mm}\\textbf{if} \\: \\lambda \\neq 0                                           \\\\\n",
              "        &amp;\\hspace{10mm} g_t \\leftarrow g_t + \\lambda  \\theta_{t-1}                            \\\\\n",
              "        &amp;\\hspace{5mm}\\textbf{if} \\: \\mu \\neq 0                                               \\\\\n",
              "        &amp;\\hspace{10mm}\\textbf{if} \\: t &gt; 1                                                   \\\\\n",
              "        &amp;\\hspace{15mm} \\textbf{b}_t \\leftarrow \\mu \\textbf{b}_{t-1} + (1-\\tau) g_t           \\\\\n",
              "        &amp;\\hspace{10mm}\\textbf{else}                                                          \\\\\n",
              "        &amp;\\hspace{15mm} \\textbf{b}_t \\leftarrow g_t                                           \\\\\n",
              "        &amp;\\hspace{10mm}\\textbf{if} \\: \\textit{nesterov}                                       \\\\\n",
              "        &amp;\\hspace{15mm} g_t \\leftarrow g_{t} + \\mu \\textbf{b}_t                             \\\\\n",
              "        &amp;\\hspace{10mm}\\textbf{else}                                                   \\\\[-1.ex]\n",
              "        &amp;\\hspace{15mm} g_t  \\leftarrow  \\textbf{b}_t                                         \\\\\n",
              "        &amp;\\hspace{5mm}\\textbf{if} \\: \\textit{maximize}                                          \\\\\n",
              "        &amp;\\hspace{10mm}\\theta_t \\leftarrow \\theta_{t-1} + \\gamma g_t                   \\\\[-1.ex]\n",
              "        &amp;\\hspace{5mm}\\textbf{else}                                                    \\\\[-1.ex]\n",
              "        &amp;\\hspace{10mm}\\theta_t \\leftarrow \\theta_{t-1} - \\gamma g_t                   \\\\[-1.ex]\n",
              "        &amp;\\rule{110mm}{0.4pt}                                                          \\\\[-1.ex]\n",
              "        &amp;\\bf{return} \\:  \\theta_t                                                     \\\\[-1.ex]\n",
              "        &amp;\\rule{110mm}{0.4pt}                                                          \\\\[-1.ex]\n",
              "   \\end{aligned}\n",
              "\n",
              "Nesterov momentum is based on the formula from\n",
              "`On the importance of initialization and momentum in deep learning`__.\n",
              "\n",
              "Args:\n",
              "    params (iterable): iterable of parameters to optimize or dicts defining\n",
              "        parameter groups\n",
              "    lr (float): learning rate\n",
              "    momentum (float, optional): momentum factor (default: 0)\n",
              "    weight_decay (float, optional): weight decay (L2 penalty) (default: 0)\n",
              "    dampening (float, optional): dampening for momentum (default: 0)\n",
              "    nesterov (bool, optional): enables Nesterov momentum (default: False)\n",
              "    maximize (bool, optional): maximize the params based on the\n",
              "        objective, instead of minimizing (default: False)\n",
              "    foreach (bool, optional): whether foreach implementation of optimizer\n",
              "        is used. If unspecified by the user (so foreach is None), we will try to use\n",
              "        foreach over the for-loop implementation on CUDA, since it is usually\n",
              "        significantly more performant. Note that the foreach implementation uses\n",
              "        ~ sizeof(params) more peak memory than the for-loop version due to the intermediates\n",
              "        being a tensorlist vs just one tensor. If memory is prohibitive, batch fewer\n",
              "        parameters through the optimizer at a time or switch this flag to False (default: None)\n",
              "    differentiable (bool, optional): whether autograd should\n",
              "        occur through the optimizer step in training. Otherwise, the step()\n",
              "        function runs in a torch.no_grad() context. Setting to True can impair\n",
              "        performance, so leave it False if you don&#x27;t intend to run autograd\n",
              "        through this instance (default: False)\n",
              "\n",
              "\n",
              "Example:\n",
              "    &gt;&gt;&gt; # xdoctest: +SKIP\n",
              "    &gt;&gt;&gt; optimizer = torch.optim.SGD(model.parameters(), lr=0.1, momentum=0.9)\n",
              "    &gt;&gt;&gt; optimizer.zero_grad()\n",
              "    &gt;&gt;&gt; loss_fn(model(input), target).backward()\n",
              "    &gt;&gt;&gt; optimizer.step()\n",
              "\n",
              "__ http://www.cs.toronto.edu/%7Ehinton/absps/momentum.pdf\n",
              "\n",
              ".. note::\n",
              "    The implementation of SGD with Momentum/Nesterov subtly differs from\n",
              "    Sutskever et. al. and implementations in some other frameworks.\n",
              "\n",
              "    Considering the specific case of Momentum, the update can be written as\n",
              "\n",
              "    .. math::\n",
              "        \\begin{aligned}\n",
              "            v_{t+1} &amp; = \\mu * v_{t} + g_{t+1}, \\\\\n",
              "            p_{t+1} &amp; = p_{t} - \\text{lr} * v_{t+1},\n",
              "        \\end{aligned}\n",
              "\n",
              "    where :math:`p`, :math:`g`, :math:`v` and :math:`\\mu` denote the\n",
              "    parameters, gradient, velocity, and momentum respectively.\n",
              "\n",
              "    This is in contrast to Sutskever et. al. and\n",
              "    other frameworks which employ an update of the form\n",
              "\n",
              "    .. math::\n",
              "        \\begin{aligned}\n",
              "            v_{t+1} &amp; = \\mu * v_{t} + \\text{lr} * g_{t+1}, \\\\\n",
              "            p_{t+1} &amp; = p_{t} - v_{t+1}.\n",
              "        \\end{aligned}\n",
              "\n",
              "    The Nesterov version is analogously modified.\n",
              "\n",
              "    Moreover, the initial value of the momentum buffer is set to the\n",
              "    gradient value at the first step. This is in contrast to some other\n",
              "    frameworks that initialize it to all zeros.</pre>\n",
              "      <script>\n",
              "      if (google.colab.kernel.accessAllowed && google.colab.files && google.colab.files.view) {\n",
              "        for (const element of document.querySelectorAll('.filepath')) {\n",
              "          element.style.display = 'block'\n",
              "          element.onclick = (event) => {\n",
              "            event.preventDefault();\n",
              "            event.stopPropagation();\n",
              "            google.colab.files.view(element.textContent, 9);\n",
              "          };\n",
              "        }\n",
              "      }\n",
              "      for (const element of document.querySelectorAll('.function-repr-contents')) {\n",
              "        element.onclick = (event) => {\n",
              "          event.preventDefault();\n",
              "          event.stopPropagation();\n",
              "          element.classList.toggle('function-repr-contents-collapsed');\n",
              "        };\n",
              "      }\n",
              "      </script>\n",
              "      </div>"
            ]
          },
          "metadata": {},
          "execution_count": 84
        }
      ],
      "source": [
        "torch.optim.SGD"
      ]
    },
    {
      "cell_type": "code",
      "execution_count": 85,
      "metadata": {
        "id": "BDgqvgVJKlaa",
        "colab": {
          "base_uri": "https://localhost:8080/"
        },
        "outputId": "3c37a525-ab7a-400e-bcbd-b148a72fe722"
      },
      "outputs": [
        {
          "output_type": "execute_result",
          "data": {
            "text/plain": [
              "([('weight',\n",
              "   Parameter containing:\n",
              "   tensor([[0.2354]], requires_grad=True)),\n",
              "  ('bias',\n",
              "   Parameter containing:\n",
              "   tensor([0.7737], requires_grad=True))],\n",
              " SGD (\n",
              " Parameter Group 0\n",
              "     dampening: 0\n",
              "     differentiable: False\n",
              "     foreach: None\n",
              "     lr: 0.01\n",
              "     maximize: False\n",
              "     momentum: 0\n",
              "     nesterov: False\n",
              "     weight_decay: 0\n",
              " ))"
            ]
          },
          "metadata": {},
          "execution_count": 85
        }
      ],
      "source": [
        "model = torch.nn.Linear(1, 1)\n",
        "list(model.named_parameters()), torch.optim.SGD(model.parameters(), lr=0.01)"
      ]
    },
    {
      "cell_type": "markdown",
      "metadata": {
        "id": "7rpMKRptKlac"
      },
      "source": [
        "Или же вот так:"
      ]
    },
    {
      "cell_type": "code",
      "execution_count": 86,
      "metadata": {
        "id": "N6mSL4-CKlad",
        "colab": {
          "base_uri": "https://localhost:8080/"
        },
        "outputId": "67f5400e-521a-4645-e1f0-e7b83197cf67"
      },
      "outputs": [
        {
          "output_type": "execute_result",
          "data": {
            "text/plain": [
              "SGD (\n",
              "Parameter Group 0\n",
              "    dampening: 0\n",
              "    differentiable: False\n",
              "    foreach: None\n",
              "    lr: 0.3\n",
              "    maximize: False\n",
              "    momentum: 0\n",
              "    nesterov: False\n",
              "    weight_decay: 0\n",
              "\n",
              "Parameter Group 1\n",
              "    dampening: 0\n",
              "    differentiable: False\n",
              "    foreach: None\n",
              "    lr: 0.5\n",
              "    maximize: False\n",
              "    momentum: 0\n",
              "    nesterov: False\n",
              "    weight_decay: 0\n",
              ")"
            ]
          },
          "metadata": {},
          "execution_count": 86
        }
      ],
      "source": [
        "# Зададим PyTorch модули в качестве словаря\n",
        "model = torch.nn.ModuleDict(\n",
        "    {\"linear_1\": torch.nn.Linear(1, 1), \"linear_2\": torch.nn.Linear(2, 2)}\n",
        ")\n",
        "torch.optim.SGD(\n",
        "    [\n",
        "        {\"params\": model[\"linear_1\"].parameters(), \"lr\": 0.3},\n",
        "        {\"params\": model[\"linear_2\"].parameters()},\n",
        "    ],\n",
        "    lr=0.5,\n",
        ")"
      ]
    },
    {
      "cell_type": "markdown",
      "metadata": {
        "id": "Jyw8oX6vpaO9"
      },
      "source": [
        "Последнее очень полезно, например, для transfer learning, когда мы хотим, чтобы предобученная модель тренировалась с другим learning rate.\n",
        "\n",
        "**Важный момент:** даже если у вас есть методы с адаптивным градиентом спуском, полностью забывать о настройке learning rate не стоит."
      ]
    },
    {
      "cell_type": "markdown",
      "metadata": {
        "id": "g-nDP6ta5T91"
      },
      "source": [
        "### Работаем с PyTorch Scheduler\n",
        "\n",
        "В начале семинара мы уменьшили количество шагов до сходимости следующим образом: начали с достаточно большого шага, а потом постепенно его уменьшили, чтобы стабилизировать процесс обучения в минимуме. Оказывается есть много способов менять оптимизацию таким образом. Они называются Schedulers."
      ]
    },
    {
      "cell_type": "code",
      "execution_count": 87,
      "metadata": {
        "id": "Ghk6fqbIqX_G",
        "colab": {
          "base_uri": "https://localhost:8080/"
        },
        "outputId": "44fa2c3b-0df0-46e3-d06b-a423fa0d8e2a"
      },
      "outputs": [
        {
          "output_type": "execute_result",
          "data": {
            "text/plain": [
              "['ChainedScheduler',\n",
              " 'ConstantLR',\n",
              " 'CosineAnnealingLR',\n",
              " 'CosineAnnealingWarmRestarts',\n",
              " 'Counter',\n",
              " 'CyclicLR',\n",
              " 'EPOCH_DEPRECATION_WARNING',\n",
              " 'ExponentialLR',\n",
              " 'LRScheduler',\n",
              " 'LambdaLR',\n",
              " 'LinearLR',\n",
              " 'MultiStepLR',\n",
              " 'MultiplicativeLR',\n",
              " 'OneCycleLR',\n",
              " 'Optimizer',\n",
              " 'PolynomialLR',\n",
              " 'ReduceLROnPlateau',\n",
              " 'SequentialLR',\n",
              " 'StepLR',\n",
              " 'bisect_right',\n",
              " 'inf',\n",
              " 'math',\n",
              " 'partial',\n",
              " 'types',\n",
              " 'warnings',\n",
              " 'weakref',\n",
              " 'wraps']"
            ]
          },
          "metadata": {},
          "execution_count": 87
        }
      ],
      "source": [
        "[elem for elem in dir(torch.optim.lr_scheduler) if not elem.startswith(\"_\")]"
      ]
    },
    {
      "cell_type": "markdown",
      "metadata": {
        "id": "00r2hf3HvUAR"
      },
      "source": [
        "Основные методы PyTorch Scheduler:\n",
        "* __step__ - обновление размера шага. *Обычно вызывается **1 раз за эпоху**, а не каждый шаг оптимизатора.*\n",
        "* __state_dict__ - получить текущее состояние Scheduler: текущий LR, количество пройденных шагов и дополнительные параметры.\n",
        "\n",
        "\n",
        "### Как создать инстанс PyTorch Scheduler?\n",
        "\n",
        "Достаточно передать `optimizer` и гиперпараметры для метода.\n",
        "\n",
        "Пример:"
      ]
    },
    {
      "cell_type": "code",
      "execution_count": 88,
      "metadata": {
        "id": "dKZwrKBpwmsy"
      },
      "outputs": [],
      "source": [
        "model = torch.nn.Linear(1, 1)\n",
        "optimizer = torch.optim.SGD(model.parameters(), lr=0.01)\n",
        "scheduler_func = lambda epoch: 0.65**epoch\n",
        "scheduler = torch.optim.lr_scheduler.LambdaLR(optimizer, scheduler_func)"
      ]
    },
    {
      "cell_type": "markdown",
      "metadata": {
        "id": "Xl6QuDjjrZmG"
      },
      "source": [
        "Сделаем пару небольших функций для отрисовки изменения шага обучения на разных шедулерах:"
      ]
    },
    {
      "cell_type": "code",
      "execution_count": 89,
      "metadata": {
        "id": "8zeYr14lrQ_j"
      },
      "outputs": [],
      "source": [
        "def get_simple_model_optimizer():\n",
        "    simple_model = torch.nn.Linear(2, 1)\n",
        "    simple_optimizer = torch.optim.SGD(model.parameters(), lr=100)\n",
        "    return simple_model, simple_optimizer\n",
        "\n",
        "\n",
        "def draw_learning_rate_curve(optimizer, scheduler):\n",
        "    lrs = []\n",
        "    for i in range(100):\n",
        "        optimizer.step()\n",
        "        lrs.append(optimizer.param_groups[0][\"lr\"])\n",
        "        scheduler.step()\n",
        "    plt.grid()\n",
        "    plt.plot(range(100), lrs)"
      ]
    },
    {
      "cell_type": "markdown",
      "metadata": {
        "id": "sJJQ9HEQtpqY"
      },
      "source": [
        "### Примеры различных шедулеров в **PyTorch**\n",
        "\n",
        "#### Lambda LR\n",
        "Умножает шаг на значение данной ему функции: $lr_{epoch} = lr_{initial} * Lambda(epoch)$."
      ]
    },
    {
      "cell_type": "code",
      "execution_count": 90,
      "metadata": {
        "id": "FZS4XOR8tK_E",
        "colab": {
          "base_uri": "https://localhost:8080/",
          "height": 430
        },
        "outputId": "d1d387e2-f438-4bf9-9bee-8ab5e8326d97"
      },
      "outputs": [
        {
          "output_type": "display_data",
          "data": {
            "text/plain": [
              "<Figure size 640x480 with 1 Axes>"
            ],
            "image/png": "[encoded data removed]"
          },
          "metadata": {}
        }
      ],
      "source": [
        "model, optimizer = get_simple_model_optimizer()\n",
        "lambda_func = lambda epoch: 0.95**epoch\n",
        "scheduler = torch.optim.lr_scheduler.LambdaLR(optimizer, lr_lambda=lambda_func)\n",
        "draw_learning_rate_curve(optimizer, scheduler)"
      ]
    },
    {
      "cell_type": "markdown",
      "metadata": {
        "id": "B8PuQb8fuIno"
      },
      "source": [
        "#### StepLR\n",
        "Каждые `step_size` эпох уменьшает LR в `gamma` раз."
      ]
    },
    {
      "cell_type": "code",
      "execution_count": 91,
      "metadata": {
        "id": "iNPhic8utbVb",
        "colab": {
          "base_uri": "https://localhost:8080/",
          "height": 430
        },
        "outputId": "ecb86fda-0ff8-4f67-d397-60a3501d9031"
      },
      "outputs": [
        {
          "output_type": "display_data",
          "data": {
            "text/plain": [
              "<Figure size 640x480 with 1 Axes>"
            ],
            "image/png": "[encoded data removed]"
          },
          "metadata": {}
        }
      ],
      "source": [
        "model, optimizer = get_simple_model_optimizer()\n",
        "scheduler = torch.optim.lr_scheduler.StepLR(optimizer, step_size=10, gamma=0.7)\n",
        "draw_learning_rate_curve(optimizer, scheduler)"
      ]
    },
    {
      "cell_type": "markdown",
      "metadata": {
        "id": "c3Ztt5AoyQCA"
      },
      "source": [
        "#### CosineAnnealingLR\n",
        "\n",
        "Важно понимать, что LR имеет смысл не только снижать, но иногда еще и делать цикличным. Формула тут несколько сложнее, оставим ее для интересующихся)"
      ]
    },
    {
      "cell_type": "code",
      "execution_count": 92,
      "metadata": {
        "id": "XPBv2i47yPOe",
        "colab": {
          "base_uri": "https://localhost:8080/",
          "height": 430
        },
        "outputId": "07377344-afb3-4203-f70c-6fa20620eef5"
      },
      "outputs": [
        {
          "output_type": "display_data",
          "data": {
            "text/plain": [
              "<Figure size 640x480 with 1 Axes>"
            ],
            "image/png": "[encoded data removed]"
          },
          "metadata": {}
        }
      ],
      "source": [
        "model, optimizer = get_simple_model_optimizer()\n",
        "scheduler = torch.optim.lr_scheduler.CosineAnnealingLR(optimizer, T_max=10, eta_min=0)\n",
        "draw_learning_rate_curve(optimizer, scheduler)"
      ]
    },
    {
      "cell_type": "markdown",
      "metadata": {
        "id": "2YmhZSXV4EBp"
      },
      "source": [
        "## PyTorch VS PyTorch Lightning\n",
        "\n",
        "**PyTorch Lightning** это фреймворк для организованной работы с **PyTorch**. В нем упрощена работа по:\n",
        "- Написанию тренировочного цикла\n",
        "- Написанию датасетов\n",
        "- Использованию gpu/tpu/ipu/hpu и тд\n",
        "- Переводу моделей в формат ONNX\n",
        "- И многому другому\n",
        "\n",
        "Фреймворк призван оставить юзеру возможность конфигурировать параметры и проводить эксперименты, а остальное он возьмет на себя. Давайте сравним код на **PyTorch** без и с использованием **Lightning** на примере несложной нейросети на датасете FashionMNIST."
      ]
    },
    {
      "cell_type": "code",
      "execution_count": 93,
      "metadata": {
        "id": "xZEZIiu05T95"
      },
      "outputs": [],
      "source": [
        "from collections import defaultdict, namedtuple\n",
        "\n",
        "import pytorch_lightning as pl\n",
        "import torchvision\n",
        "import torchvision.transforms as transforms\n",
        "from torch.utils.data import DataLoader\n",
        "# крутая библиотека с кучей метрик \"из коробки\"\n",
        "from torchmetrics.functional import accuracy"
      ]
    },
    {
      "cell_type": "markdown",
      "metadata": {
        "id": "IVYuHkoa5T96"
      },
      "source": [
        "### Данные (общее)"
      ]
    },
    {
      "cell_type": "code",
      "execution_count": 94,
      "metadata": {
        "id": "hHAHgGdeKlau"
      },
      "outputs": [],
      "source": [
        "# Train data\n",
        "fashion_mnist_train = torchvision.datasets.FashionMNIST(\n",
        "    \"./data\", download=True, transform=transforms.Compose([transforms.ToTensor()])\n",
        ")\n",
        "train_dataloader = DataLoader(\n",
        "    fashion_mnist_train, batch_size=128, shuffle=True, num_workers=4\n",
        ")\n",
        "\n",
        "# Validation data\n",
        "fashion_mnist_val = torchvision.datasets.FashionMNIST(\n",
        "    \"./data\",\n",
        "    train=False,\n",
        "    download=True,\n",
        "    transform=transforms.Compose([transforms.ToTensor()]),\n",
        ")\n",
        "val_dataloader = DataLoader(fashion_mnist_val, batch_size=128, num_workers=4)"
      ]
    },
    {
      "cell_type": "code",
      "execution_count": 95,
      "metadata": {
        "id": "Sr1MKTjBKlaw"
      },
      "outputs": [],
      "source": [
        "idx_to_label = defaultdict(\n",
        "    None,\n",
        "    {\n",
        "        0: \"T-shirt/Top\",\n",
        "        1: \"Trouser\",\n",
        "        2: \"Pullover\",\n",
        "        3: \"Dress\",\n",
        "        4: \"Coat\",\n",
        "        5: \"Sandal\",\n",
        "        6: \"Shirt\",\n",
        "        7: \"Sneaker\",\n",
        "        8: \"Bag\",\n",
        "        9: \"Ankle Boot\",\n",
        "    },\n",
        ")"
      ]
    },
    {
      "cell_type": "code",
      "execution_count": 96,
      "metadata": {
        "id": "KQfTpcB05ZcB",
        "colab": {
          "base_uri": "https://localhost:8080/",
          "height": 878
        },
        "outputId": "f3896eed-eeb5-4342-f16b-845911a10745"
      },
      "outputs": [
        {
          "output_type": "stream",
          "name": "stdout",
          "text": [
            "Ankle Boot\n"
          ]
        },
        {
          "output_type": "display_data",
          "data": {
            "text/plain": [
              "<Figure size 640x480 with 1 Axes>"
            ],
            "image/png": "[encoded data removed]"
          },
          "metadata": {}
        },
        {
          "output_type": "stream",
          "name": "stdout",
          "text": [
            "Coat\n"
          ]
        },
        {
          "output_type": "display_data",
          "data": {
            "text/plain": [
              "<Figure size 640x480 with 1 Axes>"
            ],
            "image/png": "[encoded data removed]"
          },
          "metadata": {}
        }
      ],
      "source": [
        "### pictures are normalized\n",
        "for batch in val_dataloader:\n",
        "    # batch_size is 128\n",
        "    images, class_nums = batch\n",
        "    print(idx_to_label[int(class_nums[0])])\n",
        "    plt.imshow(images[0].squeeze())\n",
        "    plt.show()\n",
        "    print(idx_to_label[int(class_nums[127])])\n",
        "    plt.imshow(images[127].squeeze())\n",
        "    plt.show()\n",
        "    break"
      ]
    },
    {
      "cell_type": "markdown",
      "metadata": {
        "id": "Q6Mf1W49f2Fv"
      },
      "source": [
        "### Модель (общее)\n",
        "\n",
        "Создайте класс модели по следующей схеме:\n",
        "\n",
        "1. BatchNorm\n",
        "2. Conv(out=32, kernel=3) -> ReLu -> MaxPool(kernel=2)\n",
        "3. BatchNorm\n",
        "4. Conv(out=64, kernel=3) -> ReLu -> MaxPool(kernel=2)\n",
        "5. Flatten\n",
        "6. Linear(out=128)\n",
        "7. ReLu\n",
        "8. Dropout\n",
        "9. Linear(out=64)\n",
        "10. ReLu\n",
        "11. Linear(out=10)"
      ]
    },
    {
      "cell_type": "code",
      "execution_count": 107,
      "metadata": {
        "id": "QkHmFRSkKlay"
      },
      "outputs": [],
      "source": [
        "class SimpleNet(torch.nn.Module):\n",
        "    def __init__(self, dropout=0.4):\n",
        "        super().__init__()\n",
        "        # TODO:\n",
        "        # Your code here:\n",
        "        # --------------\n",
        "        self.batch_norm1 = torch.nn.BatchNorm2d(1)\n",
        "\n",
        "        self.relu = torch.nn.ReLU()\n",
        "\n",
        "        self.maxpool = torch.nn.MaxPool2d(kernel_size=2)\n",
        "\n",
        "        self.conv1 = torch.nn.Sequential(\n",
        "            torch.nn.Conv2d(in_channels=1, out_channels=32, kernel_size=3),\n",
        "            self.relu,\n",
        "            self.maxpool,\n",
        "        )\n",
        "        self.batch_norm2 = torch.nn.BatchNorm2d(32)\n",
        "\n",
        "        self.conv2 = torch.nn.Sequential(\n",
        "            torch.nn.Conv2d(in_channels=32, out_channels=64, kernel_size=3),\n",
        "            self.relu,\n",
        "            self.maxpool,\n",
        "        )\n",
        "\n",
        "        self.linear1 = torch.nn.Linear(in_features=64 * 5 * 5, out_features=128)\n",
        "        self.linear2 = torch.nn.Linear(in_features=128, out_features=64)\n",
        "\n",
        "        self.output = torch.nn.Linear(in_features=64, out_features=10)\n",
        "\n",
        "        self.dropout = torch.nn.Dropout(p=dropout)\n",
        "\n",
        "        # --------------\n",
        "        self.loss_func = torch.nn.CrossEntropyLoss()\n",
        "        self.targets = torch.Tensor()\n",
        "        self.preds = torch.Tensor()\n",
        "\n",
        "    def _forward(self, x):\n",
        "        # runs the neural network\n",
        "        # TODO:\n",
        "        # Your code here\n",
        "        # --------------\n",
        "        x = self.batch_norm1(x)\n",
        "        x = self.conv1(x)\n",
        "\n",
        "        x = self.batch_norm2(x)\n",
        "        x = self.conv2(x)\n",
        "\n",
        "        x = x.view(x.size(0), -1)\n",
        "        x = self.relu(self.linear1(x))\n",
        "        x = self.dropout(x)\n",
        "        x = self.relu(self.linear2(x))\n",
        "\n",
        "        return self.output(x)\n",
        "        # --------------\n",
        "\n",
        "    def forward(self, images, target=None):\n",
        "        #images ~ (batch size, num channels, height, width)\n",
        "        #target ~ (batch size)\n",
        "        #output ~ (batch size, num classes)\n",
        "        output = self._forward(images)\n",
        "\n",
        "        # get accuracy score and save it to self.accuracy\n",
        "        if target is not None:\n",
        "            loss = self.loss_func(output, target)\n",
        "\n",
        "            self.targets = torch.cat((self.targets, target.cpu()), 0)\n",
        "            pred = torch.argmax(output, dim=-1)\n",
        "            self.preds = torch.cat((self.preds, pred.cpu()), 0)\n",
        "            self.accuracy = accuracy(self.preds.long(), self.targets.long(), task='multiclass', num_classes=10)\n",
        "\n",
        "        return loss if target is not None else output\n",
        "\n",
        "    def get_accuracy(self, reset=False):\n",
        "        # return accuracy by all values till now\n",
        "        if reset:\n",
        "            self.targets = torch.Tensor()\n",
        "            self.preds = torch.Tensor()\n",
        "        return self.accuracy"
      ]
    },
    {
      "cell_type": "markdown",
      "metadata": {
        "id": "zRuVz6TXFANc"
      },
      "source": [
        "### Гиперпараметры"
      ]
    },
    {
      "cell_type": "code",
      "execution_count": 108,
      "metadata": {
        "id": "6xmAPz91FAZb"
      },
      "outputs": [],
      "source": [
        "LossInfo = namedtuple(\n",
        "    \"LossInfo\", [\"full_train_losses\", \"train_epoch_losses\", \"eval_epoch_losses\"]\n",
        ")\n",
        "EPOCHS = 10\n",
        "LR = 0.001"
      ]
    },
    {
      "cell_type": "markdown",
      "metadata": {
        "id": "MkLsRtR2-U6d"
      },
      "source": [
        "### Тренировочные циклы (PyTorch)\n",
        "\n",
        "Здесь нам надо будет объявить функции `train_epoch`, `validate`, `fit`.\n",
        "Структура, напомним, выглядит, в упрощенном виде, так:\n",
        "```\n",
        "def train_epoch():\n",
        "    for batch in train_loader:\n",
        "        train_model_on_batch()\n",
        "def validate():\n",
        "    for batch in val_loader:\n",
        "        validate_model_on_batch()\n",
        "def fit():\n",
        "    for epoch in range(1, num_epochs):\n",
        "        train_epoch()\n",
        "        validate()\n",
        "```\n",
        "Но на деле это все намного сложнее:"
      ]
    },
    {
      "cell_type": "code",
      "execution_count": 109,
      "metadata": {
        "id": "EKZRgiLPKlaz"
      },
      "outputs": [],
      "source": [
        "def train_epoch(\n",
        "    model,\n",
        "    data_loader,\n",
        "    optimizer,\n",
        "    return_losses=False,\n",
        "    device=\"cuda:0\",\n",
        "):\n",
        "    model = model.train()\n",
        "    total_loss = 0\n",
        "    num_batches = 0\n",
        "    all_losses = []\n",
        "    with tqdm(total=len(data_loader), file=sys.stdout) as prbar:\n",
        "        for batch in data_loader:\n",
        "            # move Batch to GPU\n",
        "            batch = [x.to(device=device) for x in batch]\n",
        "            loss = model(*batch)\n",
        "            # update weights\n",
        "            loss.backward()\n",
        "            optimizer.step()\n",
        "            optimizer.zero_grad()\n",
        "            # update description for tqdm\n",
        "            accuracy = model.get_accuracy()\n",
        "            prbar.set_description(\n",
        "                f\"Loss: {round(loss.item(), 4)} \"\n",
        "                f\"Accuracy: {round(accuracy.item() * 100, 4)}\"\n",
        "            )\n",
        "            prbar.update(1)\n",
        "            total_loss += loss.item()\n",
        "            num_batches += 1\n",
        "            all_losses.append(loss.detach().item())\n",
        "    acc = model.get_accuracy(reset=True)\n",
        "    metrics = {\"loss\": total_loss / num_batches, \"accuracy\": acc}\n",
        "    if return_losses:\n",
        "        return metrics, all_losses\n",
        "    else:\n",
        "        return metrics\n",
        "\n",
        "\n",
        "def validate(model, data_loader, device=\"cuda:0\"):\n",
        "    model = model.eval()\n",
        "    total_loss = 0\n",
        "    num_batches = 0\n",
        "    with tqdm(total=len(data_loader), file=sys.stdout) as prbar:\n",
        "        for batch in data_loader:\n",
        "            batch = [x.to(device=device) for x in batch]\n",
        "            loss = model(*batch)\n",
        "            accuracy = model.get_accuracy()\n",
        "            prbar.set_description(\n",
        "                f\"Loss: {round(loss.item(), 4)} \"\n",
        "                f\"Accuracy: {round(accuracy.item() * 100, 4)}\"\n",
        "            )\n",
        "            prbar.update(1)\n",
        "            total_loss += loss.item()\n",
        "            num_batches += 1\n",
        "    acc = model.get_accuracy(reset=True)\n",
        "    metrics = {\"loss\": total_loss / num_batches, \"accuracy\": acc}\n",
        "    return metrics"
      ]
    },
    {
      "cell_type": "code",
      "execution_count": 110,
      "metadata": {
        "id": "KmOlOzBnKla2"
      },
      "outputs": [],
      "source": [
        "def fit(\n",
        "    model,\n",
        "    epochs,\n",
        "    train_data_loader,\n",
        "    validation_data_loader,\n",
        "    optimizer,\n",
        "    scheduler=None,\n",
        "    device=\"cuda:0\",\n",
        "):\n",
        "    all_train_losses = []\n",
        "    epoch_train_losses = []\n",
        "    epoch_eval_losses = []\n",
        "    for epoch in range(epochs):\n",
        "        # construct iterators\n",
        "        train_iterator = iter(train_data_loader)\n",
        "        validation_iterator = iter(validation_data_loader)\n",
        "        # train step\n",
        "        print(f\"Train Epoch: {epoch}\")\n",
        "        train_metrics, one_epoch_train_losses = train_epoch(\n",
        "            model=model,\n",
        "            data_loader=train_iterator,\n",
        "            optimizer=optimizer,\n",
        "            return_losses=True,\n",
        "            device=device,\n",
        "        )\n",
        "        # save train losses\n",
        "        all_train_losses.extend(one_epoch_train_losses)\n",
        "        epoch_train_losses.append(train_metrics[\"loss\"])\n",
        "        # eval step\n",
        "        print(f\"Validation Epoch: {epoch}\")\n",
        "        with torch.no_grad():\n",
        "            validation_metrics = validate(\n",
        "                model=model, data_loader=validation_iterator, device=device\n",
        "            )\n",
        "        # save eval losses\n",
        "        epoch_eval_losses.append(validation_metrics[\"loss\"])\n",
        "        # scheduler step\n",
        "        if scheduler:\n",
        "            scheduler.step()\n",
        "    return LossInfo(all_train_losses, epoch_train_losses, epoch_eval_losses)"
      ]
    },
    {
      "cell_type": "code",
      "execution_count": 111,
      "metadata": {
        "id": "SanI3hS6JQrL",
        "colab": {
          "base_uri": "https://localhost:8080/"
        },
        "outputId": "bae6729f-3722-433b-8a22-fc1d642caaeb"
      },
      "outputs": [
        {
          "output_type": "stream",
          "name": "stdout",
          "text": [
            "Train Epoch: 0\n",
            "Loss: 2.1983 Accuracy: 19.15: 100%|██████████| 469/469 [01:14<00:00,  6.30it/s]\n",
            "Validation Epoch: 0\n",
            "Loss: 2.139 Accuracy: 32.5: 100%|██████████| 79/79 [00:04<00:00, 16.57it/s]\n"
          ]
        }
      ],
      "source": [
        "# проверим, что всё работает (±1 минута на гпу):\n",
        "model = SimpleNet().to(device)\n",
        "_ = fit(\n",
        "    model=model,\n",
        "    epochs=1,\n",
        "    train_data_loader=train_dataloader,\n",
        "    validation_data_loader=val_dataloader,\n",
        "    optimizer=torch.optim.SGD(model.parameters(), lr=LR),\n",
        "    device=device,\n",
        ")"
      ]
    },
    {
      "cell_type": "markdown",
      "metadata": {
        "id": "3b0XCReZ4w0W"
      },
      "source": [
        "### Тренировочные циклы (Lightning)\n",
        "\n",
        "Здесь будет немного другая структура.\n",
        "\n",
        "1) Создается 1 класс отнаследованный от `pl.LightningModule`. В нем описывается сама модель, необходимые функции тренировчного и валидационного шага.\n",
        "\n",
        "2) Создается объект класса `pl.Trainer` с параметрами (напр. номер гпу, кол-во эпох, град. клиппинг и так далее) дока [тут](https://pytorch-lightning.readthedocs.io/en/latest/api/pytorch_lightning.trainer.trainer.Trainer.html?highlight=trainer) или [тут](https://pytorch-lightning.readthedocs.io/en/latest/common/trainer.html?highlight=trainer#trainer-flags).\n",
        "\n",
        "3) Вызывается `trainer.fit(model, train_loader, val_loader)`.\n",
        "\n",
        "\n",
        "```\n",
        "class MyModule(pl.LightningModule):\n",
        "    def init():\n",
        "        init_model()\n",
        "    def forward():\n",
        "        forward_model()\n",
        "    def training_step():\n",
        "        make_1_training_step()\n",
        "    def validation_step():\n",
        "        make_1_validation_step()\n",
        "\n",
        "trainer = pl.Trainer(gpus=1, max_epochs=10)\n",
        "trainer.fit(model, train_loader, val_loader)\n",
        "```\n",
        "Поскольку у нас уже есть модель `SimpleNet`, то исправлять нам много не надо."
      ]
    },
    {
      "cell_type": "code",
      "execution_count": 112,
      "metadata": {
        "id": "XqO3RxM24urH"
      },
      "outputs": [],
      "source": [
        "# 1) create a LightningModule\n",
        "class SimpleModule(pl.LightningModule):\n",
        "    def __init__(self, model, learning_rate):\n",
        "        super().__init__()\n",
        "        self.model = model\n",
        "        self.learning_rate = learning_rate\n",
        "\n",
        "    def forward(self, x):\n",
        "        result = self.model(x)\n",
        "        return result\n",
        "\n",
        "    def configure_optimizers(self):\n",
        "        optimizer = torch.optim.Adam(self.parameters(), lr=self.learning_rate)\n",
        "        return optimizer\n",
        "\n",
        "    def training_step(self, train_batch, batch_idx):\n",
        "        images, target = train_batch\n",
        "        loss = self.model(images, target)\n",
        "        self.log(\n",
        "            \"train_loss\", loss, prog_bar=True\n",
        "        )  # сохраняет логи в папку, но можно несложно добавить wandb\n",
        "        return loss\n",
        "\n",
        "    def validation_step(self, val_batch, batch_idx):\n",
        "        images, target = val_batch\n",
        "        loss = self.model(images, target)\n",
        "        self.log(\"val_loss\", loss, prog_bar=True)"
      ]
    },
    {
      "cell_type": "code",
      "execution_count": 113,
      "metadata": {
        "id": "Ihtd_7Qv-rVA",
        "colab": {
          "base_uri": "https://localhost:8080/",
          "height": 364,
          "referenced_widgets": [
            "d46ac11fda89479588ee2cab4f97c9d3",
            "20bf135aba8345c187e7875514be1ac1",
            "dbfc36c78ed8492dbad3de39290656a0",
            "70608d26e94a41cc8ad76aaa71ca4ba7",
            "7486953e4ba24eaeba0d0b4ba103c1be",
            "ad0d784bd7bc46b78803b8d29e84ed25",
            "1bd8178c48f945f3b5040cfb1c433461",
            "a75aaba58fff4fa7ade111cbc1654602",
            "ca804e5324c84e9883133a73c8a7ed59",
            "8ccc77c6f74a4d5baa253ff65d78fa91",
            "572ca14e32504246bab2618babbe25d5",
            "42dfca35859f447cba59c4946b55364a",
            "eca2362f973044f7b22f710a6303b72f",
            "2f4b9abc93c34db9991fd848c38e4014",
            "a0e2e199ef0f4b259a1ad3d9281cb213",
            "42616b187111456c93f2fcb8dd1f9bd7",
            "e3f165f7eb824c70b0969fe58381250e",
            "f713f5ec6162428c9a80f5c24c0e414c",
            "3861f3b1726c44b6a02a4305350b03b2",
            "b00e125b918f4dec942c10c70a6494cc",
            "94058fbd2c5749cea52dddf1a97fe194",
            "21786ecf6b0e44c58bdbb713e953577e",
            "190a4088b4434ab3b80460475dfd96a8",
            "490492570f0a46ee850154406a9572cc",
            "0fd446936fa64abbb26bfc8e36fb7315",
            "3e9a78703f674656b64fa328bfd24e3d",
            "e90fea583320456e9089322beee2568b",
            "daae0e23a2d44fe6b315bbf25e8f24d0",
            "ccb55f451c5046ebbad5bf9b23282b00",
            "6be45cbc098a4aad8a8ff3f8a2e42e87",
            "bdafec40c3a940fdb7ea41e19fa5de95",
            "2f9bc46483794b3ab4f8ea48645f4d95",
            "38d204cac4c94e3e8b048f64a04ad136"
          ]
        },
        "outputId": "d2e0e033-81c1-49bb-b805-919f9bdbef20"
      },
      "outputs": [
        {
          "output_type": "stream",
          "name": "stderr",
          "text": [
            "INFO:pytorch_lightning.utilities.rank_zero:GPU available: False, used: False\n",
            "INFO:pytorch_lightning.utilities.rank_zero:TPU available: False, using: 0 TPU cores\n",
            "INFO:pytorch_lightning.utilities.rank_zero:IPU available: False, using: 0 IPUs\n",
            "INFO:pytorch_lightning.utilities.rank_zero:HPU available: False, using: 0 HPUs\n",
            "WARNING:pytorch_lightning.loggers.tensorboard:Missing logger folder: /content/lightning_logs\n",
            "INFO:pytorch_lightning.callbacks.model_summary:\n",
            "  | Name  | Type      | Params\n",
            "------------------------------------\n",
            "0 | model | SimpleNet | 232 K \n",
            "------------------------------------\n",
            "232 K     Trainable params\n",
            "0         Non-trainable params\n",
            "232 K     Total params\n",
            "0.931     Total estimated model params size (MB)\n"
          ]
        },
        {
          "output_type": "display_data",
          "data": {
            "text/plain": [
              "Sanity Checking: |          | 0/? [00:00<?, ?it/s]"
            ],
            "application/vnd.jupyter.widget-view+json": {
              "version_major": 2,
              "version_minor": 0,
              "model_id": "d46ac11fda89479588ee2cab4f97c9d3"
            }
          },
          "metadata": {}
        },
        {
          "output_type": "stream",
          "name": "stderr",
          "text": [
            "/usr/local/lib/python3.10/dist-packages/torch/utils/data/dataloader.py:557: UserWarning: This DataLoader will create 4 worker processes in total. Our suggested max number of worker in current system is 2, which is smaller than what this DataLoader is going to create. Please be aware that excessive worker creation might get DataLoader running slow or even freeze, lower the worker number to avoid potential slowness/freeze if necessary.\n",
            "  warnings.warn(_create_warning_msg(\n"
          ]
        },
        {
          "output_type": "display_data",
          "data": {
            "text/plain": [
              "Training: |          | 0/? [00:00<?, ?it/s]"
            ],
            "application/vnd.jupyter.widget-view+json": {
              "version_major": 2,
              "version_minor": 0,
              "model_id": "42dfca35859f447cba59c4946b55364a"
            }
          },
          "metadata": {}
        },
        {
          "output_type": "display_data",
          "data": {
            "text/plain": [
              "Validation: |          | 0/? [00:00<?, ?it/s]"
            ],
            "application/vnd.jupyter.widget-view+json": {
              "version_major": 2,
              "version_minor": 0,
              "model_id": "190a4088b4434ab3b80460475dfd96a8"
            }
          },
          "metadata": {}
        },
        {
          "output_type": "stream",
          "name": "stderr",
          "text": [
            "INFO:pytorch_lightning.utilities.rank_zero:`Trainer.fit` stopped: `max_epochs=1` reached.\n"
          ]
        }
      ],
      "source": [
        "# 2) create module\n",
        "\n",
        "model = SimpleNet().to(device)\n",
        "module = SimpleModule(model, learning_rate=LR)\n",
        "\n",
        "# 3) create Trainer and train (±30 seconds on gpu)\n",
        "trainer = pl.Trainer(accelerator=\"cpu\", max_epochs=1)\n",
        "trainer.fit(module, train_dataloader, val_dataloader)\n",
        "\n",
        "# 3.5) we can also find best learning rate like this: https://pytorch-lightning.readthedocs.io/en/1.4.5/advanced/lr_finder.html\n",
        "# trainer = pl.Trainer(accelerator=\"gpu\", max_epochs=2, auto_lr_find=True)\n",
        "# trainer.tune(module, train_dataloader, eval_dataloader)\n",
        "# trainer.fit(module, train_dataloader, eval_dataloader)"
      ]
    },
    {
      "cell_type": "markdown",
      "metadata": {
        "id": "XThjhAsA-pxW"
      },
      "source": [
        "Обратите внимание **насколько** поведение `trainer.fit()` сильно похоже на написанную нами ранее функцию `fit()`\n",
        "\n",
        "\n",
        "Заметьте также, что на Lightning мы:\n",
        "1.   Не описывали тренировочный цикл ни по эпохам, ни по батчам\n",
        "2.   Не рисковали забыть zero_grad, .backward()\n",
        "3.   Не переносили ни модель, ни данные на GPU\n",
        "4.   Получили всякие приколы типа auto_lr_find\n",
        "5.   Сохранили возможность использования многих тонкостей **PyTorch** типа [schedulers](https://pytorch-lightning.readthedocs.io/en/stable/common/optimization.html), логирование через [wandb](https://docs.wandb.ai/guides/integrations/lightning) и так далее"
      ]
    },
    {
      "cell_type": "markdown",
      "metadata": {
        "id": "VTnyRAFB8266"
      },
      "source": [
        "## Сравнением работу разных оптимизаторов\n",
        "\n",
        "### SGD"
      ]
    },
    {
      "cell_type": "code",
      "execution_count": null,
      "metadata": {
        "id": "Xe-wjJqEXzOY",
        "colab": {
          "base_uri": "https://localhost:8080/"
        },
        "outputId": "0f80ec90-5bf2-49da-c6b9-44ca999b5b88"
      },
      "outputs": [
        {
          "output_type": "stream",
          "name": "stdout",
          "text": [
            "Train Epoch: 0\n",
            "Loss: 2.247 Accuracy: 14.6033: 100%|██████████| 469/469 [01:12<00:00,  6.50it/s]\n",
            "Validation Epoch: 0\n",
            "Loss: 2.2195 Accuracy: 23.42: 100%|██████████| 79/79 [00:04<00:00, 16.07it/s]\n",
            "Train Epoch: 1\n",
            "Loss: 2.1268 Accuracy: 29.4117: 100%|██████████| 469/469 [01:13<00:00,  6.38it/s]\n",
            "Validation Epoch: 1\n",
            "Loss: 2.0633 Accuracy: 47.45: 100%|██████████| 79/79 [00:04<00:00, 15.93it/s]\n",
            "Train Epoch: 2\n",
            "Loss: 1.8581 Accuracy: 43.8733: 100%|██████████| 469/469 [01:12<00:00,  6.49it/s]\n",
            "Validation Epoch: 2\n",
            "Loss: 1.7268 Accuracy: 59.66: 100%|██████████| 79/79 [00:04<00:00, 16.21it/s]\n",
            "Train Epoch: 3\n",
            "Loss: 1.414 Accuracy: 52.3517: 100%|██████████| 469/469 [01:14<00:00,  6.33it/s]\n",
            "Validation Epoch: 3\n",
            "Loss: 1.2167 Accuracy: 65.11: 100%|██████████| 79/79 [00:04<00:00, 16.34it/s]\n",
            "Train Epoch: 4\n",
            "Loss: 1.1897 Accuracy: 59.7883: 100%|██████████| 469/469 [01:11<00:00,  6.56it/s]\n",
            "Validation Epoch: 4\n",
            "Loss: 0.901 Accuracy: 68.17: 100%|██████████| 79/79 [00:05<00:00, 15.29it/s]\n",
            "Train Epoch: 5\n",
            "Loss: 1.0778 Accuracy: 64.0833: 100%|██████████| 469/469 [01:11<00:00,  6.59it/s]\n",
            "Validation Epoch: 5\n",
            "Loss: 0.7479 Accuracy: 71.12: 100%|██████████| 79/79 [00:05<00:00, 13.48it/s]\n",
            "Train Epoch: 6\n",
            "Loss: 0.8382 Accuracy: 67.6617: 100%|██████████| 469/469 [01:11<00:00,  6.51it/s]\n",
            "Validation Epoch: 6\n",
            "Loss: 0.6519 Accuracy: 72.63: 100%|██████████| 79/79 [00:05<00:00, 13.31it/s]\n",
            "Train Epoch: 7\n",
            "Loss: 0.8378 Accuracy: 69.9233: 100%|██████████| 469/469 [01:13<00:00,  6.36it/s]\n",
            "Validation Epoch: 7\n",
            "Loss: 0.5941 Accuracy: 73.3: 100%|██████████| 79/79 [00:05<00:00, 14.69it/s]\n",
            "Train Epoch: 8\n",
            "Loss: 0.6241 Accuracy: 71.8: 100%|██████████| 469/469 [01:14<00:00,  6.33it/s]\n",
            "Validation Epoch: 8\n",
            "Loss: 0.5445 Accuracy: 74.09: 100%|██████████| 79/79 [00:04<00:00, 16.32it/s]\n",
            "Train Epoch: 9\n",
            "Loss: 0.8471 Accuracy: 72.6007:  90%|████████▉ | 422/469 [01:06<00:06,  7.15it/s]"
          ]
        }
      ],
      "source": [
        "model = SimpleNet().to(device=device)\n",
        "sgd_loss_info = fit(\n",
        "    model=model,\n",
        "    epochs=EPOCHS,\n",
        "    train_data_loader=train_dataloader,\n",
        "    validation_data_loader=val_dataloader,\n",
        "    optimizer=torch.optim.SGD(model.parameters(), lr=LR),\n",
        "    device=device,\n",
        ")"
      ]
    },
    {
      "cell_type": "markdown",
      "metadata": {
        "id": "XNsHDEOuX_I8"
      },
      "source": [
        "### SGD with Momentum"
      ]
    },
    {
      "cell_type": "code",
      "execution_count": 115,
      "metadata": {
        "id": "WETr80TZXo1Z",
        "colab": {
          "base_uri": "https://localhost:8080/"
        },
        "outputId": "f54bdbbe-1733-4767-ae48-1abdb923e4c9"
      },
      "outputs": [
        {
          "output_type": "stream",
          "name": "stdout",
          "text": [
            "Train Epoch: 0\n",
            "Loss: 0.6454 Accuracy: 54.64: 100%|██████████| 469/469 [01:22<00:00,  5.71it/s]\n",
            "Validation Epoch: 0\n",
            "Loss: 0.4899 Accuracy: 74.97: 100%|██████████| 79/79 [00:06<00:00, 12.99it/s]\n",
            "Train Epoch: 1\n",
            "Loss: 0.6087 Accuracy: 75.8883: 100%|██████████| 469/469 [01:12<00:00,  6.44it/s]\n",
            "Validation Epoch: 1\n",
            "Loss: 0.3764 Accuracy: 78.79: 100%|██████████| 79/79 [00:05<00:00, 13.18it/s]\n",
            "Train Epoch: 2\n",
            "Loss: 0.3785 Accuracy: 79.6017: 100%|██████████| 469/469 [01:11<00:00,  6.59it/s]\n",
            "Validation Epoch: 2\n",
            "Loss: 0.3089 Accuracy: 81.64: 100%|██████████| 79/79 [00:05<00:00, 15.68it/s]\n",
            "Train Epoch: 3\n",
            "Loss: 0.5999 Accuracy: 82.0783: 100%|██████████| 469/469 [01:11<00:00,  6.55it/s]\n",
            "Validation Epoch: 3\n",
            "Loss: 0.2542 Accuracy: 83.4: 100%|██████████| 79/79 [00:04<00:00, 15.88it/s]\n",
            "Train Epoch: 4\n",
            "Loss: 0.3927 Accuracy: 83.9817: 100%|██████████| 469/469 [01:12<00:00,  6.49it/s]\n",
            "Validation Epoch: 4\n",
            "Loss: 0.2187 Accuracy: 84.48: 100%|██████████| 79/79 [00:04<00:00, 15.84it/s]\n",
            "Train Epoch: 5\n",
            "Loss: 0.4487 Accuracy: 85.215: 100%|██████████| 469/469 [01:10<00:00,  6.62it/s]\n",
            "Validation Epoch: 5\n",
            "Loss: 0.1919 Accuracy: 86.11: 100%|██████████| 79/79 [00:06<00:00, 12.86it/s]\n",
            "Train Epoch: 6\n",
            "Loss: 0.3771 Accuracy: 86.2333: 100%|██████████| 469/469 [01:11<00:00,  6.56it/s]\n",
            "Validation Epoch: 6\n",
            "Loss: 0.1486 Accuracy: 86.46: 100%|██████████| 79/79 [00:06<00:00, 12.78it/s]\n",
            "Train Epoch: 7\n",
            "Loss: 0.4493 Accuracy: 86.905: 100%|██████████| 469/469 [01:11<00:00,  6.58it/s]\n",
            "Validation Epoch: 7\n",
            "Loss: 0.1754 Accuracy: 87.02: 100%|██████████| 79/79 [00:05<00:00, 14.36it/s]\n",
            "Train Epoch: 8\n",
            "Loss: 0.3465 Accuracy: 87.3983: 100%|██████████| 469/469 [01:11<00:00,  6.52it/s]\n",
            "Validation Epoch: 8\n",
            "Loss: 0.1736 Accuracy: 86.49: 100%|██████████| 79/79 [00:05<00:00, 15.67it/s]\n",
            "Train Epoch: 9\n",
            "Loss: 0.3115 Accuracy: 87.8067: 100%|██████████| 469/469 [01:12<00:00,  6.47it/s]\n",
            "Validation Epoch: 9\n",
            "Loss: 0.1443 Accuracy: 88.18: 100%|██████████| 79/79 [00:04<00:00, 15.81it/s]\n"
          ]
        }
      ],
      "source": [
        "model = SimpleNet().to(device=device)\n",
        "sgd_momentum_loss_info = fit(\n",
        "    model=model,\n",
        "    epochs=EPOCHS,\n",
        "    train_data_loader=train_dataloader,\n",
        "    validation_data_loader=val_dataloader,\n",
        "    optimizer=torch.optim.SGD(model.parameters(), momentum=0.9, lr=LR),\n",
        "    device=device,\n",
        ")"
      ]
    },
    {
      "cell_type": "markdown",
      "metadata": {
        "id": "ra4g-7ztvBC3"
      },
      "source": [
        "### RMSprop"
      ]
    },
    {
      "cell_type": "code",
      "execution_count": 116,
      "metadata": {
        "id": "pP7tS4gsu_7o",
        "colab": {
          "base_uri": "https://localhost:8080/"
        },
        "outputId": "8e697b30-35c1-42da-bfa1-8140a68fce33"
      },
      "outputs": [
        {
          "output_type": "stream",
          "name": "stdout",
          "text": [
            "Train Epoch: 0\n",
            "Loss: 0.4756 Accuracy: 78.1617: 100%|██████████| 469/469 [01:14<00:00,  6.31it/s]\n",
            "Validation Epoch: 0\n",
            "Loss: 0.2202 Accuracy: 86.01: 100%|██████████| 79/79 [00:05<00:00, 13.31it/s]\n",
            "Train Epoch: 1\n",
            "Loss: 0.3628 Accuracy: 86.275: 100%|██████████| 469/469 [01:14<00:00,  6.31it/s]\n",
            "Validation Epoch: 1\n",
            "Loss: 0.2567 Accuracy: 87.93: 100%|██████████| 79/79 [00:06<00:00, 12.92it/s]\n",
            "Train Epoch: 2\n",
            "Loss: 0.2752 Accuracy: 87.9317: 100%|██████████| 469/469 [01:14<00:00,  6.33it/s]\n",
            "Validation Epoch: 2\n",
            "Loss: 0.2328 Accuracy: 87.73: 100%|██████████| 79/79 [00:06<00:00, 12.94it/s]\n",
            "Train Epoch: 3\n",
            "Loss: 0.38 Accuracy: 88.9983: 100%|██████████| 469/469 [01:13<00:00,  6.36it/s]\n",
            "Validation Epoch: 3\n",
            "Loss: 0.196 Accuracy: 89.3: 100%|██████████| 79/79 [00:06<00:00, 13.11it/s]\n",
            "Train Epoch: 4\n",
            "Loss: 0.3024 Accuracy: 89.775: 100%|██████████| 469/469 [01:13<00:00,  6.38it/s]\n",
            "Validation Epoch: 4\n",
            "Loss: 0.2838 Accuracy: 89.75: 100%|██████████| 79/79 [00:06<00:00, 12.99it/s]\n",
            "Train Epoch: 5\n",
            "Loss: 0.2486 Accuracy: 90.37: 100%|██████████| 469/469 [01:13<00:00,  6.39it/s]\n",
            "Validation Epoch: 5\n",
            "Loss: 0.3345 Accuracy: 89.33: 100%|██████████| 79/79 [00:06<00:00, 12.96it/s]\n",
            "Train Epoch: 6\n",
            "Loss: 0.2591 Accuracy: 90.9117: 100%|██████████| 469/469 [01:13<00:00,  6.37it/s]\n",
            "Validation Epoch: 6\n",
            "Loss: 0.1986 Accuracy: 90.48: 100%|██████████| 79/79 [00:06<00:00, 12.96it/s]\n",
            "Train Epoch: 7\n",
            "Loss: 0.2837 Accuracy: 91.4383: 100%|██████████| 469/469 [01:13<00:00,  6.36it/s]\n",
            "Validation Epoch: 7\n",
            "Loss: 0.2575 Accuracy: 88.53: 100%|██████████| 79/79 [00:06<00:00, 13.06it/s]\n",
            "Train Epoch: 8\n",
            "Loss: 0.2746 Accuracy: 91.7183: 100%|██████████| 469/469 [01:13<00:00,  6.36it/s]\n",
            "Validation Epoch: 8\n",
            "Loss: 0.2438 Accuracy: 90.12: 100%|██████████| 79/79 [00:06<00:00, 12.98it/s]\n",
            "Train Epoch: 9\n",
            "Loss: 0.1835 Accuracy: 92.105: 100%|██████████| 469/469 [01:13<00:00,  6.39it/s]\n",
            "Validation Epoch: 9\n",
            "Loss: 0.226 Accuracy: 90.85: 100%|██████████| 79/79 [00:06<00:00, 13.16it/s]\n"
          ]
        }
      ],
      "source": [
        "model = SimpleNet().to(device=device)\n",
        "rmsprop_loss_info = fit(\n",
        "    model=model,\n",
        "    epochs=EPOCHS,\n",
        "    train_data_loader=train_dataloader,\n",
        "    validation_data_loader=val_dataloader,\n",
        "    optimizer=torch.optim.RMSprop(model.parameters(), lr=LR),\n",
        "    device=device,\n",
        ")"
      ]
    },
    {
      "cell_type": "markdown",
      "metadata": {
        "id": "Y1-4TFPaYNFP"
      },
      "source": [
        "### Adam"
      ]
    },
    {
      "cell_type": "code",
      "execution_count": 117,
      "metadata": {
        "id": "AgDi8etcYKxL",
        "colab": {
          "base_uri": "https://localhost:8080/"
        },
        "outputId": "46d0ba94-8c96-4770-945e-772a3df6cec7"
      },
      "outputs": [
        {
          "output_type": "stream",
          "name": "stdout",
          "text": [
            "Train Epoch: 0\n",
            "Loss: 0.4467 Accuracy: 80.93: 100%|██████████| 469/469 [01:11<00:00,  6.55it/s]\n",
            "Validation Epoch: 0\n",
            "Loss: 0.1452 Accuracy: 87.66: 100%|██████████| 79/79 [00:04<00:00, 15.84it/s]\n",
            "Train Epoch: 1\n",
            "Loss: 0.2778 Accuracy: 87.8167: 100%|██████████| 469/469 [01:12<00:00,  6.46it/s]\n",
            "Validation Epoch: 1\n",
            "Loss: 0.1057 Accuracy: 88.7: 100%|██████████| 79/79 [00:05<00:00, 15.23it/s]\n",
            "Train Epoch: 2\n",
            "Loss: 0.3689 Accuracy: 89.3333: 100%|██████████| 469/469 [01:12<00:00,  6.46it/s]\n",
            "Validation Epoch: 2\n",
            "Loss: 0.1208 Accuracy: 89.79: 100%|██████████| 79/79 [00:04<00:00, 15.86it/s]\n",
            "Train Epoch: 3\n",
            "Loss: 0.3909 Accuracy: 90.34: 100%|██████████| 469/469 [01:12<00:00,  6.44it/s]\n",
            "Validation Epoch: 3\n",
            "Loss: 0.1324 Accuracy: 90.15: 100%|██████████| 79/79 [00:05<00:00, 14.35it/s]\n",
            "Train Epoch: 4\n",
            "Loss: 0.3442 Accuracy: 91.1067: 100%|██████████| 469/469 [01:11<00:00,  6.58it/s]\n",
            "Validation Epoch: 4\n",
            "Loss: 0.1064 Accuracy: 90.45: 100%|██████████| 79/79 [00:06<00:00, 12.79it/s]\n",
            "Train Epoch: 5\n",
            "Loss: 0.1973 Accuracy: 91.7583: 100%|██████████| 469/469 [01:11<00:00,  6.56it/s]\n",
            "Validation Epoch: 5\n",
            "Loss: 0.1032 Accuracy: 90.36: 100%|██████████| 79/79 [00:06<00:00, 13.03it/s]\n",
            "Train Epoch: 6\n",
            "Loss: 0.2329 Accuracy: 92.2833: 100%|██████████| 469/469 [01:11<00:00,  6.56it/s]\n",
            "Validation Epoch: 6\n",
            "Loss: 0.1109 Accuracy: 91.5: 100%|██████████| 79/79 [00:05<00:00, 15.32it/s]\n",
            "Train Epoch: 7\n",
            "Loss: 0.1852 Accuracy: 92.695: 100%|██████████| 469/469 [01:12<00:00,  6.50it/s]\n",
            "Validation Epoch: 7\n",
            "Loss: 0.111 Accuracy: 90.45: 100%|██████████| 79/79 [00:04<00:00, 16.10it/s]\n",
            "Train Epoch: 8\n",
            "Loss: 0.2149 Accuracy: 93.4017: 100%|██████████| 469/469 [01:13<00:00,  6.41it/s]\n",
            "Validation Epoch: 8\n",
            "Loss: 0.1094 Accuracy: 91.31: 100%|██████████| 79/79 [00:04<00:00, 16.25it/s]\n",
            "Train Epoch: 9\n",
            "Loss: 0.2292 Accuracy: 93.6533: 100%|██████████| 469/469 [01:12<00:00,  6.44it/s]\n",
            "Validation Epoch: 9\n",
            "Loss: 0.0681 Accuracy: 91.36: 100%|██████████| 79/79 [00:04<00:00, 16.04it/s]\n"
          ]
        }
      ],
      "source": [
        "model = SimpleNet().to(device=device)\n",
        "adam_loss_info = fit(\n",
        "    model=model,\n",
        "    epochs=EPOCHS,\n",
        "    train_data_loader=train_dataloader,\n",
        "    validation_data_loader=val_dataloader,\n",
        "    optimizer=torch.optim.Adam(model.parameters(), lr=LR),\n",
        "    device=device,\n",
        ")"
      ]
    },
    {
      "cell_type": "markdown",
      "metadata": {
        "id": "2-EKFButKxn6"
      },
      "source": [
        "### Adam + Scheduler"
      ]
    },
    {
      "cell_type": "code",
      "execution_count": 118,
      "metadata": {
        "id": "7uWBSiBG5T-A",
        "colab": {
          "base_uri": "https://localhost:8080/"
        },
        "outputId": "76d3418f-efe6-4786-dcbb-60d0dc3cfb04"
      },
      "outputs": [
        {
          "output_type": "stream",
          "name": "stdout",
          "text": [
            "Train Epoch: 0\n",
            "Loss: 0.2864 Accuracy: 80.7467: 100%|██████████| 469/469 [01:11<00:00,  6.54it/s]\n",
            "Validation Epoch: 0\n",
            "Loss: 0.1703 Accuracy: 86.88: 100%|██████████| 79/79 [00:05<00:00, 13.55it/s]\n",
            "Train Epoch: 1\n",
            "Loss: 0.3289 Accuracy: 87.6667: 100%|██████████| 469/469 [01:12<00:00,  6.44it/s]\n",
            "Validation Epoch: 1\n",
            "Loss: 0.1336 Accuracy: 88.31: 100%|██████████| 79/79 [00:06<00:00, 13.06it/s]\n",
            "Train Epoch: 2\n",
            "Loss: 0.3054 Accuracy: 89.1117: 100%|██████████| 469/469 [01:12<00:00,  6.50it/s]\n",
            "Validation Epoch: 2\n",
            "Loss: 0.1177 Accuracy: 90.11: 100%|██████████| 79/79 [00:06<00:00, 12.93it/s]\n",
            "Train Epoch: 3\n",
            "Loss: 0.4373 Accuracy: 90.3333: 100%|██████████| 469/469 [01:15<00:00,  6.25it/s]\n",
            "Validation Epoch: 3\n",
            "Loss: 0.1059 Accuracy: 90.45: 100%|██████████| 79/79 [00:05<00:00, 13.76it/s]\n",
            "Train Epoch: 4\n",
            "Loss: 0.3222 Accuracy: 91.0817: 100%|██████████| 469/469 [01:15<00:00,  6.20it/s]\n",
            "Validation Epoch: 4\n",
            "Loss: 0.0706 Accuracy: 90.55: 100%|██████████| 79/79 [00:05<00:00, 15.45it/s]\n",
            "Train Epoch: 5\n",
            "Loss: 0.2221 Accuracy: 91.82: 100%|██████████| 469/469 [01:15<00:00,  6.20it/s]\n",
            "Validation Epoch: 5\n",
            "Loss: 0.096 Accuracy: 91.01: 100%|██████████| 79/79 [00:04<00:00, 16.11it/s]\n",
            "Train Epoch: 6\n",
            "Loss: 0.2361 Accuracy: 92.3633: 100%|██████████| 469/469 [01:15<00:00,  6.23it/s]\n",
            "Validation Epoch: 6\n",
            "Loss: 0.0965 Accuracy: 90.9: 100%|██████████| 79/79 [00:04<00:00, 16.04it/s]\n",
            "Train Epoch: 7\n",
            "Loss: 0.1654 Accuracy: 92.8267: 100%|██████████| 469/469 [01:15<00:00,  6.23it/s]\n",
            "Validation Epoch: 7\n",
            "Loss: 0.0875 Accuracy: 91.18: 100%|██████████| 79/79 [00:04<00:00, 16.12it/s]\n",
            "Train Epoch: 8\n",
            "Loss: 0.0814 Accuracy: 93.2317: 100%|██████████| 469/469 [01:15<00:00,  6.21it/s]\n",
            "Validation Epoch: 8\n",
            "Loss: 0.1624 Accuracy: 91.52: 100%|██████████| 79/79 [00:04<00:00, 16.17it/s]\n",
            "Train Epoch: 9\n",
            "Loss: 0.131 Accuracy: 93.63: 100%|██████████| 469/469 [01:15<00:00,  6.25it/s]\n",
            "Validation Epoch: 9\n",
            "Loss: 0.0555 Accuracy: 91.02: 100%|██████████| 79/79 [00:04<00:00, 16.27it/s]\n"
          ]
        }
      ],
      "source": [
        "model = SimpleNet().to(device=device)\n",
        "lambda_func = lambda epoch: 0.975**epoch\n",
        "optimizer = torch.optim.Adam(model.parameters(), lr=LR)\n",
        "scheduler = torch.optim.lr_scheduler.LambdaLR(optimizer, lr_lambda=lambda_func)\n",
        "adam_scheduler_loss_info = fit(\n",
        "    model=model,\n",
        "    epochs=EPOCHS,\n",
        "    train_data_loader=train_dataloader,\n",
        "    validation_data_loader=val_dataloader,\n",
        "    optimizer=optimizer,\n",
        "    scheduler=scheduler,\n",
        "    device=device,\n",
        ")"
      ]
    },
    {
      "cell_type": "markdown",
      "metadata": {
        "id": "LVPEOb_I5T-A"
      },
      "source": [
        "На валидации получается значение несколько лучше, чем у просто Adam."
      ]
    },
    {
      "cell_type": "markdown",
      "metadata": {
        "id": "0iVVwKYV5T-A"
      },
      "source": [
        "### Графики падения лосса при разных способах оптимизации"
      ]
    },
    {
      "cell_type": "code",
      "execution_count": 119,
      "metadata": {
        "id": "9HsXUU8y5T-A",
        "colab": {
          "base_uri": "https://localhost:8080/",
          "height": 430
        },
        "outputId": "faa8a8d3-ef9d-430c-a8dc-3ceb8984cbfd"
      },
      "outputs": [
        {
          "output_type": "display_data",
          "data": {
            "text/plain": [
              "<Figure size 640x480 with 1 Axes>"
            ],
            "image/png": "[encoded data removed]"
          },
          "metadata": {}
        }
      ],
      "source": [
        "plt.plot(\n",
        "    np.arange(len(train_dataloader) * 10),\n",
        "    sgd_loss_info.full_train_losses,\n",
        "    label=\"SGD\",\n",
        "    c=\"grey\",\n",
        ")\n",
        "plt.plot(\n",
        "    np.arange(len(train_dataloader) * 10),\n",
        "    sgd_momentum_loss_info.full_train_losses,\n",
        "    label=\"SGD Momentum\",\n",
        "    c=\"blue\",\n",
        ")\n",
        "plt.plot(\n",
        "    np.arange(len(train_dataloader) * 10),\n",
        "    rmsprop_loss_info.full_train_losses,\n",
        "    label=\"RMSProp\",\n",
        "    c=\"green\",\n",
        ")\n",
        "plt.plot(\n",
        "    np.arange(len(train_dataloader) * 10),\n",
        "    adam_loss_info.full_train_losses,\n",
        "    label=\"Adam\",\n",
        "    c=\"red\",\n",
        ")\n",
        "plt.plot(\n",
        "    np.arange(len(train_dataloader) * 10),\n",
        "    adam_scheduler_loss_info.full_train_losses,\n",
        "    label=\"Adam+Scheduler\",\n",
        "    c=\"black\",\n",
        ")\n",
        "\n",
        "plt.legend()\n",
        "plt.show()"
      ]
    },
    {
      "cell_type": "code",
      "execution_count": 120,
      "metadata": {
        "id": "3XsczR-v5T-A",
        "colab": {
          "base_uri": "https://localhost:8080/",
          "height": 430
        },
        "outputId": "ef79c459-6cee-4232-8199-255cfaf9a64c"
      },
      "outputs": [
        {
          "output_type": "display_data",
          "data": {
            "text/plain": [
              "<Figure size 640x480 with 1 Axes>"
            ],
            "image/png": "[encoded data removed]"
          },
          "metadata": {}
        }
      ],
      "source": [
        "plt.plot(np.arange(10), sgd_loss_info.eval_epoch_losses, label=\"SGD\", c=\"grey\")\n",
        "plt.plot(\n",
        "    np.arange(10),\n",
        "    sgd_momentum_loss_info.eval_epoch_losses,\n",
        "    label=\"SGD Momentum\",\n",
        "    c=\"blue\",\n",
        ")\n",
        "plt.plot(np.arange(10), rmsprop_loss_info.eval_epoch_losses, label=\"RMSprop\", c=\"green\")\n",
        "plt.plot(np.arange(10), adam_loss_info.eval_epoch_losses, label=\"Adam\", c=\"red\")\n",
        "plt.plot(\n",
        "    np.arange(10),\n",
        "    adam_scheduler_loss_info.eval_epoch_losses,\n",
        "    label=\"Adam+Scheduler\",\n",
        "    c=\"black\",\n",
        ")\n",
        "plt.legend()\n",
        "plt.show()"
      ]
    }
  ],
  "metadata": {
    "accelerator": "GPU",
    "colab": {
      "provenance": [],
      "gpuType": "T4",
      "include_colab_link": true
    },
    "kernelspec": {
      "display_name": "Python 3",
      "name": "python3"
    },
    "language_info": {
      "codemirror_mode": {
        "name": "ipython",
        "version": 3
      },
      "file_extension": ".py",
      "mimetype": "text/x-python",
      "name": "python",
      "nbconvert_exporter": "python",
      "pygments_lexer": "ipython3",
      "version": "3.10.4"
    },
    "widgets": {
      "application/vnd.jupyter.widget-state+json": {
        "d46ac11fda89479588ee2cab4f97c9d3": {
          "model_module": "@jupyter-widgets/controls",
          "model_name": "HBoxModel",
          "model_module_version": "1.5.0",
          "state": {
            "_dom_classes": [],
            "_model_module": "@jupyter-widgets/controls",
            "_model_module_version": "1.5.0",
            "_model_name": "HBoxModel",
            "_view_count": null,
            "_view_module": "@jupyter-widgets/controls",
            "_view_module_version": "1.5.0",
            "_view_name": "HBoxView",
            "box_style": "",
            "children": [
              "IPY_MODEL_20bf135aba8345c187e7875514be1ac1",
              "IPY_MODEL_dbfc36c78ed8492dbad3de39290656a0",
              "IPY_MODEL_70608d26e94a41cc8ad76aaa71ca4ba7"
            ],
            "layout": "IPY_MODEL_7486953e4ba24eaeba0d0b4ba103c1be"
          }
        },
        "20bf135aba8345c187e7875514be1ac1": {
          "model_module": "@jupyter-widgets/controls",
          "model_name": "HTMLModel",
          "model_module_version": "1.5.0",
          "state": {
            "_dom_classes": [],
            "_model_module": "@jupyter-widgets/controls",
            "_model_module_version": "1.5.0",
            "_model_name": "HTMLModel",
            "_view_count": null,
            "_view_module": "@jupyter-widgets/controls",
            "_view_module_version": "1.5.0",
            "_view_name": "HTMLView",
            "description": "",
            "description_tooltip": null,
            "layout": "IPY_MODEL_ad0d784bd7bc46b78803b8d29e84ed25",
            "placeholder": "​",
            "style": "IPY_MODEL_1bd8178c48f945f3b5040cfb1c433461",
            "value": "Sanity Checking DataLoader 0: 100%"
          }
        },
        "dbfc36c78ed8492dbad3de39290656a0": {
          "model_module": "@jupyter-widgets/controls",
          "model_name": "FloatProgressModel",
          "model_module_version": "1.5.0",
          "state": {
            "_dom_classes": [],
            "_model_module": "@jupyter-widgets/controls",
            "_model_module_version": "1.5.0",
            "_model_name": "FloatProgressModel",
            "_view_count": null,
            "_view_module": "@jupyter-widgets/controls",
            "_view_module_version": "1.5.0",
            "_view_name": "ProgressView",
            "bar_style": "",
            "description": "",
            "description_tooltip": null,
            "layout": "IPY_MODEL_a75aaba58fff4fa7ade111cbc1654602",
            "max": 2,
            "min": 0,
            "orientation": "horizontal",
            "style": "IPY_MODEL_ca804e5324c84e9883133a73c8a7ed59",
            "value": 2
          }
        },
        "70608d26e94a41cc8ad76aaa71ca4ba7": {
          "model_module": "@jupyter-widgets/controls",
          "model_name": "HTMLModel",
          "model_module_version": "1.5.0",
          "state": {
            "_dom_classes": [],
            "_model_module": "@jupyter-widgets/controls",
            "_model_module_version": "1.5.0",
            "_model_name": "HTMLModel",
            "_view_count": null,
            "_view_module": "@jupyter-widgets/controls",
            "_view_module_version": "1.5.0",
            "_view_name": "HTMLView",
            "description": "",
            "description_tooltip": null,
            "layout": "IPY_MODEL_8ccc77c6f74a4d5baa253ff65d78fa91",
            "placeholder": "​",
            "style": "IPY_MODEL_572ca14e32504246bab2618babbe25d5",
            "value": " 2/2 [00:00&lt;00:00,  4.98it/s]"
          }
        },
        "7486953e4ba24eaeba0d0b4ba103c1be": {
          "model_module": "@jupyter-widgets/base",
          "model_name": "LayoutModel",
          "model_module_version": "1.2.0",
          "state": {
            "_model_module": "@jupyter-widgets/base",
            "_model_module_version": "1.2.0",
            "_model_name": "LayoutModel",
            "_view_count": null,
            "_view_module": "@jupyter-widgets/base",
            "_view_module_version": "1.2.0",
            "_view_name": "LayoutView",
            "align_content": null,
            "align_items": null,
            "align_self": null,
            "border": null,
            "bottom": null,
            "display": "inline-flex",
            "flex": null,
            "flex_flow": "row wrap",
            "grid_area": null,
            "grid_auto_columns": null,
            "grid_auto_flow": null,
            "grid_auto_rows": null,
            "grid_column": null,
            "grid_gap": null,
            "grid_row": null,
            "grid_template_areas": null,
            "grid_template_columns": null,
            "grid_template_rows": null,
            "height": null,
            "justify_content": null,
            "justify_items": null,
            "left": null,
            "margin": null,
            "max_height": null,
            "max_width": null,
            "min_height": null,
            "min_width": null,
            "object_fit": null,
            "object_position": null,
            "order": null,
            "overflow": null,
            "overflow_x": null,
            "overflow_y": null,
            "padding": null,
            "right": null,
            "top": null,
            "visibility": "hidden",
            "width": "100%"
          }
        },
        "ad0d784bd7bc46b78803b8d29e84ed25": {
          "model_module": "@jupyter-widgets/base",
          "model_name": "LayoutModel",
          "model_module_version": "1.2.0",
          "state": {
            "_model_module": "@jupyter-widgets/base",
            "_model_module_version": "1.2.0",
            "_model_name": "LayoutModel",
            "_view_count": null,
            "_view_module": "@jupyter-widgets/base",
            "_view_module_version": "1.2.0",
            "_view_name": "LayoutView",
            "align_content": null,
            "align_items": null,
            "align_self": null,
            "border": null,
            "bottom": null,
            "display": null,
            "flex": null,
            "flex_flow": null,
            "grid_area": null,
            "grid_auto_columns": null,
            "grid_auto_flow": null,
            "grid_auto_rows": null,
            "grid_column": null,
            "grid_gap": null,
            "grid_row": null,
            "grid_template_areas": null,
            "grid_template_columns": null,
            "grid_template_rows": null,
            "height": null,
            "justify_content": null,
            "justify_items": null,
            "left": null,
            "margin": null,
            "max_height": null,
            "max_width": null,
            "min_height": null,
            "min_width": null,
            "object_fit": null,
            "object_position": null,
            "order": null,
            "overflow": null,
            "overflow_x": null,
            "overflow_y": null,
            "padding": null,
            "right": null,
            "top": null,
            "visibility": null,
            "width": null
          }
        },
        "1bd8178c48f945f3b5040cfb1c433461": {
          "model_module": "@jupyter-widgets/controls",
          "model_name": "DescriptionStyleModel",
          "model_module_version": "1.5.0",
          "state": {
            "_model_module": "@jupyter-widgets/controls",
            "_model_module_version": "1.5.0",
            "_model_name": "DescriptionStyleModel",
            "_view_count": null,
            "_view_module": "@jupyter-widgets/base",
            "_view_module_version": "1.2.0",
            "_view_name": "StyleView",
            "description_width": ""
          }
        },
        "a75aaba58fff4fa7ade111cbc1654602": {
          "model_module": "@jupyter-widgets/base",
          "model_name": "LayoutModel",
          "model_module_version": "1.2.0",
          "state": {
            "_model_module": "@jupyter-widgets/base",
            "_model_module_version": "1.2.0",
            "_model_name": "LayoutModel",
            "_view_count": null,
            "_view_module": "@jupyter-widgets/base",
            "_view_module_version": "1.2.0",
            "_view_name": "LayoutView",
            "align_content": null,
            "align_items": null,
            "align_self": null,
            "border": null,
            "bottom": null,
            "display": null,
            "flex": "2",
            "flex_flow": null,
            "grid_area": null,
            "grid_auto_columns": null,
            "grid_auto_flow": null,
            "grid_auto_rows": null,
            "grid_column": null,
            "grid_gap": null,
            "grid_row": null,
            "grid_template_areas": null,
            "grid_template_columns": null,
            "grid_template_rows": null,
            "height": null,
            "justify_content": null,
            "justify_items": null,
            "left": null,
            "margin": null,
            "max_height": null,
            "max_width": null,
            "min_height": null,
            "min_width": null,
            "object_fit": null,
            "object_position": null,
            "order": null,
            "overflow": null,
            "overflow_x": null,
            "overflow_y": null,
            "padding": null,
            "right": null,
            "top": null,
            "visibility": null,
            "width": null
          }
        },
        "ca804e5324c84e9883133a73c8a7ed59": {
          "model_module": "@jupyter-widgets/controls",
          "model_name": "ProgressStyleModel",
          "model_module_version": "1.5.0",
          "state": {
            "_model_module": "@jupyter-widgets/controls",
            "_model_module_version": "1.5.0",
            "_model_name": "ProgressStyleModel",
            "_view_count": null,
            "_view_module": "@jupyter-widgets/base",
            "_view_module_version": "1.2.0",
            "_view_name": "StyleView",
            "bar_color": null,
            "description_width": ""
          }
        },
        "8ccc77c6f74a4d5baa253ff65d78fa91": {
          "model_module": "@jupyter-widgets/base",
          "model_name": "LayoutModel",
          "model_module_version": "1.2.0",
          "state": {
            "_model_module": "@jupyter-widgets/base",
            "_model_module_version": "1.2.0",
            "_model_name": "LayoutModel",
            "_view_count": null,
            "_view_module": "@jupyter-widgets/base",
            "_view_module_version": "1.2.0",
            "_view_name": "LayoutView",
            "align_content": null,
            "align_items": null,
            "align_self": null,
            "border": null,
            "bottom": null,
            "display": null,
            "flex": null,
            "flex_flow": null,
            "grid_area": null,
            "grid_auto_columns": null,
            "grid_auto_flow": null,
            "grid_auto_rows": null,
            "grid_column": null,
            "grid_gap": null,
            "grid_row": null,
            "grid_template_areas": null,
            "grid_template_columns": null,
            "grid_template_rows": null,
            "height": null,
            "justify_content": null,
            "justify_items": null,
            "left": null,
            "margin": null,
            "max_height": null,
            "max_width": null,
            "min_height": null,
            "min_width": null,
            "object_fit": null,
            "object_position": null,
            "order": null,
            "overflow": null,
            "overflow_x": null,
            "overflow_y": null,
            "padding": null,
            "right": null,
            "top": null,
            "visibility": null,
            "width": null
          }
        },
        "572ca14e32504246bab2618babbe25d5": {
          "model_module": "@jupyter-widgets/controls",
          "model_name": "DescriptionStyleModel",
          "model_module_version": "1.5.0",
          "state": {
            "_model_module": "@jupyter-widgets/controls",
            "_model_module_version": "1.5.0",
            "_model_name": "DescriptionStyleModel",
            "_view_count": null,
            "_view_module": "@jupyter-widgets/base",
            "_view_module_version": "1.2.0",
            "_view_name": "StyleView",
            "description_width": ""
          }
        },
        "42dfca35859f447cba59c4946b55364a": {
          "model_module": "@jupyter-widgets/controls",
          "model_name": "HBoxModel",
          "model_module_version": "1.5.0",
          "state": {
            "_dom_classes": [],
            "_model_module": "@jupyter-widgets/controls",
            "_model_module_version": "1.5.0",
            "_model_name": "HBoxModel",
            "_view_count": null,
            "_view_module": "@jupyter-widgets/controls",
            "_view_module_version": "1.5.0",
            "_view_name": "HBoxView",
            "box_style": "",
            "children": [
              "IPY_MODEL_eca2362f973044f7b22f710a6303b72f",
              "IPY_MODEL_2f4b9abc93c34db9991fd848c38e4014",
              "IPY_MODEL_a0e2e199ef0f4b259a1ad3d9281cb213"
            ],
            "layout": "IPY_MODEL_42616b187111456c93f2fcb8dd1f9bd7"
          }
        },
        "eca2362f973044f7b22f710a6303b72f": {
          "model_module": "@jupyter-widgets/controls",
          "model_name": "HTMLModel",
          "model_module_version": "1.5.0",
          "state": {
            "_dom_classes": [],
            "_model_module": "@jupyter-widgets/controls",
            "_model_module_version": "1.5.0",
            "_model_name": "HTMLModel",
            "_view_count": null,
            "_view_module": "@jupyter-widgets/controls",
            "_view_module_version": "1.5.0",
            "_view_name": "HTMLView",
            "description": "",
            "description_tooltip": null,
            "layout": "IPY_MODEL_e3f165f7eb824c70b0969fe58381250e",
            "placeholder": "​",
            "style": "IPY_MODEL_f713f5ec6162428c9a80f5c24c0e414c",
            "value": "Epoch 0: 100%"
          }
        },
        "2f4b9abc93c34db9991fd848c38e4014": {
          "model_module": "@jupyter-widgets/controls",
          "model_name": "FloatProgressModel",
          "model_module_version": "1.5.0",
          "state": {
            "_dom_classes": [],
            "_model_module": "@jupyter-widgets/controls",
            "_model_module_version": "1.5.0",
            "_model_name": "FloatProgressModel",
            "_view_count": null,
            "_view_module": "@jupyter-widgets/controls",
            "_view_module_version": "1.5.0",
            "_view_name": "ProgressView",
            "bar_style": "success",
            "description": "",
            "description_tooltip": null,
            "layout": "IPY_MODEL_3861f3b1726c44b6a02a4305350b03b2",
            "max": 469,
            "min": 0,
            "orientation": "horizontal",
            "style": "IPY_MODEL_b00e125b918f4dec942c10c70a6494cc",
            "value": 469
          }
        },
        "a0e2e199ef0f4b259a1ad3d9281cb213": {
          "model_module": "@jupyter-widgets/controls",
          "model_name": "HTMLModel",
          "model_module_version": "1.5.0",
          "state": {
            "_dom_classes": [],
            "_model_module": "@jupyter-widgets/controls",
            "_model_module_version": "1.5.0",
            "_model_name": "HTMLModel",
            "_view_count": null,
            "_view_module": "@jupyter-widgets/controls",
            "_view_module_version": "1.5.0",
            "_view_name": "HTMLView",
            "description": "",
            "description_tooltip": null,
            "layout": "IPY_MODEL_94058fbd2c5749cea52dddf1a97fe194",
            "placeholder": "​",
            "style": "IPY_MODEL_21786ecf6b0e44c58bdbb713e953577e",
            "value": " 469/469 [01:20&lt;00:00,  5.86it/s, v_num=0, train_loss=0.373, val_loss=0.342]"
          }
        },
        "42616b187111456c93f2fcb8dd1f9bd7": {
          "model_module": "@jupyter-widgets/base",
          "model_name": "LayoutModel",
          "model_module_version": "1.2.0",
          "state": {
            "_model_module": "@jupyter-widgets/base",
            "_model_module_version": "1.2.0",
            "_model_name": "LayoutModel",
            "_view_count": null,
            "_view_module": "@jupyter-widgets/base",
            "_view_module_version": "1.2.0",
            "_view_name": "LayoutView",
            "align_content": null,
            "align_items": null,
            "align_self": null,
            "border": null,
            "bottom": null,
            "display": "inline-flex",
            "flex": null,
            "flex_flow": "row wrap",
            "grid_area": null,
            "grid_auto_columns": null,
            "grid_auto_flow": null,
            "grid_auto_rows": null,
            "grid_column": null,
            "grid_gap": null,
            "grid_row": null,
            "grid_template_areas": null,
            "grid_template_columns": null,
            "grid_template_rows": null,
            "height": null,
            "justify_content": null,
            "justify_items": null,
            "left": null,
            "margin": null,
            "max_height": null,
            "max_width": null,
            "min_height": null,
            "min_width": null,
            "object_fit": null,
            "object_position": null,
            "order": null,
            "overflow": null,
            "overflow_x": null,
            "overflow_y": null,
            "padding": null,
            "right": null,
            "top": null,
            "visibility": null,
            "width": "100%"
          }
        },
        "e3f165f7eb824c70b0969fe58381250e": {
          "model_module": "@jupyter-widgets/base",
          "model_name": "LayoutModel",
          "model_module_version": "1.2.0",
          "state": {
            "_model_module": "@jupyter-widgets/base",
            "_model_module_version": "1.2.0",
            "_model_name": "LayoutModel",
            "_view_count": null,
            "_view_module": "@jupyter-widgets/base",
            "_view_module_version": "1.2.0",
            "_view_name": "LayoutView",
            "align_content": null,
            "align_items": null,
            "align_self": null,
            "border": null,
            "bottom": null,
            "display": null,
            "flex": null,
            "flex_flow": null,
            "grid_area": null,
            "grid_auto_columns": null,
            "grid_auto_flow": null,
            "grid_auto_rows": null,
            "grid_column": null,
            "grid_gap": null,
            "grid_row": null,
            "grid_template_areas": null,
            "grid_template_columns": null,
            "grid_template_rows": null,
            "height": null,
            "justify_content": null,
            "justify_items": null,
            "left": null,
            "margin": null,
            "max_height": null,
            "max_width": null,
            "min_height": null,
            "min_width": null,
            "object_fit": null,
            "object_position": null,
            "order": null,
            "overflow": null,
            "overflow_x": null,
            "overflow_y": null,
            "padding": null,
            "right": null,
            "top": null,
            "visibility": null,
            "width": null
          }
        },
        "f713f5ec6162428c9a80f5c24c0e414c": {
          "model_module": "@jupyter-widgets/controls",
          "model_name": "DescriptionStyleModel",
          "model_module_version": "1.5.0",
          "state": {
            "_model_module": "@jupyter-widgets/controls",
            "_model_module_version": "1.5.0",
            "_model_name": "DescriptionStyleModel",
            "_view_count": null,
            "_view_module": "@jupyter-widgets/base",
            "_view_module_version": "1.2.0",
            "_view_name": "StyleView",
            "description_width": ""
          }
        },
        "3861f3b1726c44b6a02a4305350b03b2": {
          "model_module": "@jupyter-widgets/base",
          "model_name": "LayoutModel",
          "model_module_version": "1.2.0",
          "state": {
            "_model_module": "@jupyter-widgets/base",
            "_model_module_version": "1.2.0",
            "_model_name": "LayoutModel",
            "_view_count": null,
            "_view_module": "@jupyter-widgets/base",
            "_view_module_version": "1.2.0",
            "_view_name": "LayoutView",
            "align_content": null,
            "align_items": null,
            "align_self": null,
            "border": null,
            "bottom": null,
            "display": null,
            "flex": "2",
            "flex_flow": null,
            "grid_area": null,
            "grid_auto_columns": null,
            "grid_auto_flow": null,
            "grid_auto_rows": null,
            "grid_column": null,
            "grid_gap": null,
            "grid_row": null,
            "grid_template_areas": null,
            "grid_template_columns": null,
            "grid_template_rows": null,
            "height": null,
            "justify_content": null,
            "justify_items": null,
            "left": null,
            "margin": null,
            "max_height": null,
            "max_width": null,
            "min_height": null,
            "min_width": null,
            "object_fit": null,
            "object_position": null,
            "order": null,
            "overflow": null,
            "overflow_x": null,
            "overflow_y": null,
            "padding": null,
            "right": null,
            "top": null,
            "visibility": null,
            "width": null
          }
        },
        "b00e125b918f4dec942c10c70a6494cc": {
          "model_module": "@jupyter-widgets/controls",
          "model_name": "ProgressStyleModel",
          "model_module_version": "1.5.0",
          "state": {
            "_model_module": "@jupyter-widgets/controls",
            "_model_module_version": "1.5.0",
            "_model_name": "ProgressStyleModel",
            "_view_count": null,
            "_view_module": "@jupyter-widgets/base",
            "_view_module_version": "1.2.0",
            "_view_name": "StyleView",
            "bar_color": null,
            "description_width": ""
          }
        },
        "94058fbd2c5749cea52dddf1a97fe194": {
          "model_module": "@jupyter-widgets/base",
          "model_name": "LayoutModel",
          "model_module_version": "1.2.0",
          "state": {
            "_model_module": "@jupyter-widgets/base",
            "_model_module_version": "1.2.0",
            "_model_name": "LayoutModel",
            "_view_count": null,
            "_view_module": "@jupyter-widgets/base",
            "_view_module_version": "1.2.0",
            "_view_name": "LayoutView",
            "align_content": null,
            "align_items": null,
            "align_self": null,
            "border": null,
            "bottom": null,
            "display": null,
            "flex": null,
            "flex_flow": null,
            "grid_area": null,
            "grid_auto_columns": null,
            "grid_auto_flow": null,
            "grid_auto_rows": null,
            "grid_column": null,
            "grid_gap": null,
            "grid_row": null,
            "grid_template_areas": null,
            "grid_template_columns": null,
            "grid_template_rows": null,
            "height": null,
            "justify_content": null,
            "justify_items": null,
            "left": null,
            "margin": null,
            "max_height": null,
            "max_width": null,
            "min_height": null,
            "min_width": null,
            "object_fit": null,
            "object_position": null,
            "order": null,
            "overflow": null,
            "overflow_x": null,
            "overflow_y": null,
            "padding": null,
            "right": null,
            "top": null,
            "visibility": null,
            "width": null
          }
        },
        "21786ecf6b0e44c58bdbb713e953577e": {
          "model_module": "@jupyter-widgets/controls",
          "model_name": "DescriptionStyleModel",
          "model_module_version": "1.5.0",
          "state": {
            "_model_module": "@jupyter-widgets/controls",
            "_model_module_version": "1.5.0",
            "_model_name": "DescriptionStyleModel",
            "_view_count": null,
            "_view_module": "@jupyter-widgets/base",
            "_view_module_version": "1.2.0",
            "_view_name": "StyleView",
            "description_width": ""
          }
        },
        "190a4088b4434ab3b80460475dfd96a8": {
          "model_module": "@jupyter-widgets/controls",
          "model_name": "HBoxModel",
          "model_module_version": "1.5.0",
          "state": {
            "_dom_classes": [],
            "_model_module": "@jupyter-widgets/controls",
            "_model_module_version": "1.5.0",
            "_model_name": "HBoxModel",
            "_view_count": null,
            "_view_module": "@jupyter-widgets/controls",
            "_view_module_version": "1.5.0",
            "_view_name": "HBoxView",
            "box_style": "",
            "children": [
              "IPY_MODEL_490492570f0a46ee850154406a9572cc",
              "IPY_MODEL_0fd446936fa64abbb26bfc8e36fb7315",
              "IPY_MODEL_3e9a78703f674656b64fa328bfd24e3d"
            ],
            "layout": "IPY_MODEL_e90fea583320456e9089322beee2568b"
          }
        },
        "490492570f0a46ee850154406a9572cc": {
          "model_module": "@jupyter-widgets/controls",
          "model_name": "HTMLModel",
          "model_module_version": "1.5.0",
          "state": {
            "_dom_classes": [],
            "_model_module": "@jupyter-widgets/controls",
            "_model_module_version": "1.5.0",
            "_model_name": "HTMLModel",
            "_view_count": null,
            "_view_module": "@jupyter-widgets/controls",
            "_view_module_version": "1.5.0",
            "_view_name": "HTMLView",
            "description": "",
            "description_tooltip": null,
            "layout": "IPY_MODEL_daae0e23a2d44fe6b315bbf25e8f24d0",
            "placeholder": "​",
            "style": "IPY_MODEL_ccb55f451c5046ebbad5bf9b23282b00",
            "value": "Validation DataLoader 0: 100%"
          }
        },
        "0fd446936fa64abbb26bfc8e36fb7315": {
          "model_module": "@jupyter-widgets/controls",
          "model_name": "FloatProgressModel",
          "model_module_version": "1.5.0",
          "state": {
            "_dom_classes": [],
            "_model_module": "@jupyter-widgets/controls",
            "_model_module_version": "1.5.0",
            "_model_name": "FloatProgressModel",
            "_view_count": null,
            "_view_module": "@jupyter-widgets/controls",
            "_view_module_version": "1.5.0",
            "_view_name": "ProgressView",
            "bar_style": "",
            "description": "",
            "description_tooltip": null,
            "layout": "IPY_MODEL_6be45cbc098a4aad8a8ff3f8a2e42e87",
            "max": 79,
            "min": 0,
            "orientation": "horizontal",
            "style": "IPY_MODEL_bdafec40c3a940fdb7ea41e19fa5de95",
            "value": 79
          }
        },
        "3e9a78703f674656b64fa328bfd24e3d": {
          "model_module": "@jupyter-widgets/controls",
          "model_name": "HTMLModel",
          "model_module_version": "1.5.0",
          "state": {
            "_dom_classes": [],
            "_model_module": "@jupyter-widgets/controls",
            "_model_module_version": "1.5.0",
            "_model_name": "HTMLModel",
            "_view_count": null,
            "_view_module": "@jupyter-widgets/controls",
            "_view_module_version": "1.5.0",
            "_view_name": "HTMLView",
            "description": "",
            "description_tooltip": null,
            "layout": "IPY_MODEL_2f9bc46483794b3ab4f8ea48645f4d95",
            "placeholder": "​",
            "style": "IPY_MODEL_38d204cac4c94e3e8b048f64a04ad136",
            "value": " 79/79 [00:06&lt;00:00, 12.20it/s]"
          }
        },
        "e90fea583320456e9089322beee2568b": {
          "model_module": "@jupyter-widgets/base",
          "model_name": "LayoutModel",
          "model_module_version": "1.2.0",
          "state": {
            "_model_module": "@jupyter-widgets/base",
            "_model_module_version": "1.2.0",
            "_model_name": "LayoutModel",
            "_view_count": null,
            "_view_module": "@jupyter-widgets/base",
            "_view_module_version": "1.2.0",
            "_view_name": "LayoutView",
            "align_content": null,
            "align_items": null,
            "align_self": null,
            "border": null,
            "bottom": null,
            "display": "inline-flex",
            "flex": null,
            "flex_flow": "row wrap",
            "grid_area": null,
            "grid_auto_columns": null,
            "grid_auto_flow": null,
            "grid_auto_rows": null,
            "grid_column": null,
            "grid_gap": null,
            "grid_row": null,
            "grid_template_areas": null,
            "grid_template_columns": null,
            "grid_template_rows": null,
            "height": null,
            "justify_content": null,
            "justify_items": null,
            "left": null,
            "margin": null,
            "max_height": null,
            "max_width": null,
            "min_height": null,
            "min_width": null,
            "object_fit": null,
            "object_position": null,
            "order": null,
            "overflow": null,
            "overflow_x": null,
            "overflow_y": null,
            "padding": null,
            "right": null,
            "top": null,
            "visibility": "hidden",
            "width": "100%"
          }
        },
        "daae0e23a2d44fe6b315bbf25e8f24d0": {
          "model_module": "@jupyter-widgets/base",
          "model_name": "LayoutModel",
          "model_module_version": "1.2.0",
          "state": {
            "_model_module": "@jupyter-widgets/base",
            "_model_module_version": "1.2.0",
            "_model_name": "LayoutModel",
            "_view_count": null,
            "_view_module": "@jupyter-widgets/base",
            "_view_module_version": "1.2.0",
            "_view_name": "LayoutView",
            "align_content": null,
            "align_items": null,
            "align_self": null,
            "border": null,
            "bottom": null,
            "display": null,
            "flex": null,
            "flex_flow": null,
            "grid_area": null,
            "grid_auto_columns": null,
            "grid_auto_flow": null,
            "grid_auto_rows": null,
            "grid_column": null,
            "grid_gap": null,
            "grid_row": null,
            "grid_template_areas": null,
            "grid_template_columns": null,
            "grid_template_rows": null,
            "height": null,
            "justify_content": null,
            "justify_items": null,
            "left": null,
            "margin": null,
            "max_height": null,
            "max_width": null,
            "min_height": null,
            "min_width": null,
            "object_fit": null,
            "object_position": null,
            "order": null,
            "overflow": null,
            "overflow_x": null,
            "overflow_y": null,
            "padding": null,
            "right": null,
            "top": null,
            "visibility": null,
            "width": null
          }
        },
        "ccb55f451c5046ebbad5bf9b23282b00": {
          "model_module": "@jupyter-widgets/controls",
          "model_name": "DescriptionStyleModel",
          "model_module_version": "1.5.0",
          "state": {
            "_model_module": "@jupyter-widgets/controls",
            "_model_module_version": "1.5.0",
            "_model_name": "DescriptionStyleModel",
            "_view_count": null,
            "_view_module": "@jupyter-widgets/base",
            "_view_module_version": "1.2.0",
            "_view_name": "StyleView",
            "description_width": ""
          }
        },
        "6be45cbc098a4aad8a8ff3f8a2e42e87": {
          "model_module": "@jupyter-widgets/base",
          "model_name": "LayoutModel",
          "model_module_version": "1.2.0",
          "state": {
            "_model_module": "@jupyter-widgets/base",
            "_model_module_version": "1.2.0",
            "_model_name": "LayoutModel",
            "_view_count": null,
            "_view_module": "@jupyter-widgets/base",
            "_view_module_version": "1.2.0",
            "_view_name": "LayoutView",
            "align_content": null,
            "align_items": null,
            "align_self": null,
            "border": null,
            "bottom": null,
            "display": null,
            "flex": "2",
            "flex_flow": null,
            "grid_area": null,
            "grid_auto_columns": null,
            "grid_auto_flow": null,
            "grid_auto_rows": null,
            "grid_column": null,
            "grid_gap": null,
            "grid_row": null,
            "grid_template_areas": null,
            "grid_template_columns": null,
            "grid_template_rows": null,
            "height": null,
            "justify_content": null,
            "justify_items": null,
            "left": null,
            "margin": null,
            "max_height": null,
            "max_width": null,
            "min_height": null,
            "min_width": null,
            "object_fit": null,
            "object_position": null,
            "order": null,
            "overflow": null,
            "overflow_x": null,
            "overflow_y": null,
            "padding": null,
            "right": null,
            "top": null,
            "visibility": null,
            "width": null
          }
        },
        "bdafec40c3a940fdb7ea41e19fa5de95": {
          "model_module": "@jupyter-widgets/controls",
          "model_name": "ProgressStyleModel",
          "model_module_version": "1.5.0",
          "state": {
            "_model_module": "@jupyter-widgets/controls",
            "_model_module_version": "1.5.0",
            "_model_name": "ProgressStyleModel",
            "_view_count": null,
            "_view_module": "@jupyter-widgets/base",
            "_view_module_version": "1.2.0",
            "_view_name": "StyleView",
            "bar_color": null,
            "description_width": ""
          }
        },
        "2f9bc46483794b3ab4f8ea48645f4d95": {
          "model_module": "@jupyter-widgets/base",
          "model_name": "LayoutModel",
          "model_module_version": "1.2.0",
          "state": {
            "_model_module": "@jupyter-widgets/base",
            "_model_module_version": "1.2.0",
            "_model_name": "LayoutModel",
            "_view_count": null,
            "_view_module": "@jupyter-widgets/base",
            "_view_module_version": "1.2.0",
            "_view_name": "LayoutView",
            "align_content": null,
            "align_items": null,
            "align_self": null,
            "border": null,
            "bottom": null,
            "display": null,
            "flex": null,
            "flex_flow": null,
            "grid_area": null,
            "grid_auto_columns": null,
            "grid_auto_flow": null,
            "grid_auto_rows": null,
            "grid_column": null,
            "grid_gap": null,
            "grid_row": null,
            "grid_template_areas": null,
            "grid_template_columns": null,
            "grid_template_rows": null,
            "height": null,
            "justify_content": null,
            "justify_items": null,
            "left": null,
            "margin": null,
            "max_height": null,
            "max_width": null,
            "min_height": null,
            "min_width": null,
            "object_fit": null,
            "object_position": null,
            "order": null,
            "overflow": null,
            "overflow_x": null,
            "overflow_y": null,
            "padding": null,
            "right": null,
            "top": null,
            "visibility": null,
            "width": null
          }
        },
        "38d204cac4c94e3e8b048f64a04ad136": {
          "model_module": "@jupyter-widgets/controls",
          "model_name": "DescriptionStyleModel",
          "model_module_version": "1.5.0",
          "state": {
            "_model_module": "@jupyter-widgets/controls",
            "_model_module_version": "1.5.0",
            "_model_name": "DescriptionStyleModel",
            "_view_count": null,
            "_view_module": "@jupyter-widgets/base",
            "_view_module_version": "1.2.0",
            "_view_name": "StyleView",
            "description_width": ""
          }
        }
      }
    }
  },
  "nbformat": 4,
  "nbformat_minor": 0
}