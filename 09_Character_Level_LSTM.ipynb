{
  "cells": [
    {
      "cell_type": "markdown",
      "metadata": {
        "id": "view-in-github",
        "colab_type": "text"
      },
      "source": [
        "<a href=\"https://colab.research.google.com/github/KOCORA/Deep-Learning-.-.-/blob/master/09_Character_Level_LSTM.ipynb\" target=\"_parent\"><img src=\"https://colab.research.google.com/assets/colab-badge.svg\" alt=\"Open In Colab\"/></a>"
      ]
    },
    {
      "cell_type": "markdown",
      "metadata": {
        "id": "1W8R8WgZceEk"
      },
      "source": [
        "# Семинар 9: Character-Level LSTM\n",
        "\n",
        "## Вступление\n",
        "На прошлом занятии мы познакомились с тем, как можно векторизовать текстовые данные для решения задач обработки текстов. Сегодня мы продолжим заниматься текстами и посмотрим на простейший пример автоматической генерации текстов при помощи Recurrent Neural Network (RNN).\n",
        "\n",
        "Полезные материалы по RNN можно почитать [здесь](http://karpathy.github.io/2015/05/21/rnn-effectiveness/), а реализацию на PyTorch — [здесь](https://github.com/karpathy/char-rnn).\n",
        "\n",
        "### План семинара\n",
        "1. Подготовка данных\n",
        "2. Имплементация модели\n",
        "3. Обучение модели\n",
        "4. Применение модели"
      ]
    },
    {
      "cell_type": "code",
      "source": [
        "!pip install lightning -q"
      ],
      "metadata": {
        "id": "OD5nh3nBPs0V",
        "colab": {
          "base_uri": "https://localhost:8080/"
        },
        "outputId": "e5a392d7-a22a-410b-d848-ec20218d9444"
      },
      "execution_count": 1,
      "outputs": [
        {
          "output_type": "stream",
          "name": "stdout",
          "text": [
            "\u001b[2K     \u001b[90m━━━━━━━━━━━━━━━━━━━━━━━━━━━━━━━━━━━━━━━━\u001b[0m \u001b[32m2.1/2.1 MB\u001b[0m \u001b[31m8.6 MB/s\u001b[0m eta \u001b[36m0:00:00\u001b[0m\n",
            "\u001b[2K     \u001b[90m━━━━━━━━━━━━━━━━━━━━━━━━━━━━━━━━━━━━━━━━\u001b[0m \u001b[32m840.4/840.4 kB\u001b[0m \u001b[31m14.2 MB/s\u001b[0m eta \u001b[36m0:00:00\u001b[0m\n",
            "\u001b[2K     \u001b[90m━━━━━━━━━━━━━━━━━━━━━━━━━━━━━━━━━━━━━━━━\u001b[0m \u001b[32m801.6/801.6 kB\u001b[0m \u001b[31m16.8 MB/s\u001b[0m eta \u001b[36m0:00:00\u001b[0m\n",
            "\u001b[?25h"
          ]
        }
      ]
    },
    {
      "cell_type": "code",
      "execution_count": 2,
      "metadata": {
        "id": "sqUOE2flceEl"
      },
      "outputs": [],
      "source": [
        "import warnings\n",
        "from typing import Iterable, Tuple\n",
        "\n",
        "import pytorch_lightning as pl\n",
        "import torch\n",
        "from torch import nn\n",
        "\n",
        "warnings.filterwarnings(\"ignore\")"
      ]
    },
    {
      "cell_type": "markdown",
      "metadata": {
        "id": "_wHfCDyzceEl"
      },
      "source": [
        "## 1. Подготовка данных\n",
        "\n",
        "### Загрузим текст \"Анны Карениной\""
      ]
    },
    {
      "cell_type": "code",
      "source": [
        "!wget https://raw.githubusercontent.com/hse-ds/iad-deep-learning/master/2022/seminars/sem09/anna.txt"
      ],
      "metadata": {
        "id": "0OdxVLREPXTa",
        "colab": {
          "base_uri": "https://localhost:8080/"
        },
        "outputId": "4ee52573-db1f-494c-9f4e-0f842cf76893"
      },
      "execution_count": 3,
      "outputs": [
        {
          "output_type": "stream",
          "name": "stdout",
          "text": [
            "--2024-03-06 21:11:57--  https://raw.githubusercontent.com/hse-ds/iad-deep-learning/master/2022/seminars/sem09/anna.txt\n",
            "Resolving raw.githubusercontent.com (raw.githubusercontent.com)... 185.199.108.133, 185.199.109.133, 185.199.110.133, ...\n",
            "Connecting to raw.githubusercontent.com (raw.githubusercontent.com)|185.199.108.133|:443... connected.\n",
            "HTTP request sent, awaiting response... 200 OK\n",
            "Length: 1985223 (1.9M) [text/plain]\n",
            "Saving to: ‘anna.txt’\n",
            "\n",
            "anna.txt            100%[===================>]   1.89M  9.56MB/s    in 0.2s    \n",
            "\n",
            "2024-03-06 21:11:57 (9.56 MB/s) - ‘anna.txt’ saved [1985223/1985223]\n",
            "\n"
          ]
        }
      ]
    },
    {
      "cell_type": "code",
      "execution_count": 4,
      "metadata": {
        "id": "b34kfqIOceEl",
        "colab": {
          "base_uri": "https://localhost:8080/",
          "height": 35
        },
        "outputId": "9bacd32c-752c-4dc3-97ea-aa72ca0174d6"
      },
      "outputs": [
        {
          "output_type": "execute_result",
          "data": {
            "text/plain": [
              "'Chapter 1\\n\\n\\nHappy families are all alike; every unhappy family is unhappy in its own\\nway.\\n\\nEverythin'"
            ],
            "application/vnd.google.colaboratory.intrinsic+json": {
              "type": "string"
            }
          },
          "metadata": {},
          "execution_count": 4
        }
      ],
      "source": [
        "with open(\"anna.txt\", \"r\") as f:\n",
        "    text = f.read()\n",
        "\n",
        "text[:100]"
      ]
    },
    {
      "cell_type": "markdown",
      "metadata": {
        "id": "4iC21bopceEl"
      },
      "source": [
        "### Токенизируем текст\n",
        "\n",
        "Аналогично предыдущему семинару, в ячейках ниже создадим два словаря для преобразования символов в целые числа и обратно."
      ]
    },
    {
      "cell_type": "code",
      "execution_count": 5,
      "metadata": {
        "id": "tYVlmnxLceEl",
        "colab": {
          "base_uri": "https://localhost:8080/"
        },
        "outputId": "fb141cda-ea17-4239-a62a-d4f15cadf8df"
      },
      "outputs": [
        {
          "output_type": "execute_result",
          "data": {
            "text/plain": [
              "tensor([19,  5, 50, 75, 66, 53, 11, 17, 67, 38, 38, 38, 24, 50, 75, 75, 48, 17,\n",
              "         8, 50, 62, 20, 55, 20, 53, 46, 17, 50, 11, 53, 17, 50, 55, 55, 17, 50,\n",
              "        55, 20, 32, 53, 33, 17, 53, 68, 53, 11, 48, 17, 59,  9,  5, 50, 75, 75,\n",
              "        48, 17,  8, 50, 62, 20, 55, 48, 17, 20, 46, 17, 59,  9,  5, 50, 75, 75,\n",
              "        48, 17, 20,  9, 17, 20, 66, 46, 17,  3, 44,  9, 38, 44, 50, 48,  2, 38,\n",
              "        38, 26, 68, 53, 11, 48, 66,  5, 20,  9])"
            ]
          },
          "metadata": {},
          "execution_count": 5
        }
      ],
      "source": [
        "unique_chars = tuple(set(text))\n",
        "int2char = dict(enumerate(unique_chars))\n",
        "char2int = {ch: ii for ii, ch in int2char.items()}\n",
        "\n",
        "# encode the text\n",
        "encoded = torch.tensor([char2int[ch] for ch in text])\n",
        "encoded[:100]"
      ]
    },
    {
      "cell_type": "markdown",
      "metadata": {
        "id": "azltQy-gceEl"
      },
      "source": [
        "Посмотрим на схему char-RNN:\n",
        "<img src=\"https://github.com/udacity/deep-learning-v2-pytorch/blob/master/recurrent-neural-networks/char-rnn/assets/charseq.jpeg?raw=1\" width=\"30%\">\n",
        "\n",
        "Сеть ожидает **one-hot encoded** входа, что означает, что каждый символ преобразуется в целое число (через созданный маппинг), а затем преобразуется в вектор-столбец, где только соответствующий ему целочисленный индекс будет иметь значение 1, а остальная часть вектора будет заполнена нулями. Давайте напишем функцию для этого преобразования.\n",
        "\n",
        "#### Задание: допишите функцию one-hot кодирования последовательности"
      ]
    },
    {
      "cell_type": "code",
      "execution_count": 8,
      "metadata": {
        "id": "OnahALhiceEl"
      },
      "outputs": [],
      "source": [
        "def one_hot_encode(int_words: torch.Tensor, n_labels: int) -> torch.Tensor:\n",
        "    \"\"\"\n",
        "    Creates one-hot representation matrix for a given batch of integer sequences\n",
        "    :param int_words: tensor of ints, which represents current sequence; shape: [batch_size, seq_len]\n",
        "    :param n_labels: vocabulary size (number of unique tokens in data)\n",
        "    :return: one-hot representation of the input tensor; shape: [batch_size, seq_len, n_labels]\n",
        "    \"\"\"\n",
        "    # <YOUR CODE HERE>\n",
        "    words_one_hot = torch.zeros((int_words.numel(), n_labels), dtype=torch.float32, device=int_words.device)\n",
        "    words_one_hot[torch.arange(words_one_hot.shape[0]), int_words.flatten()] = 1.0\n",
        "    words_one_hot = words_one_hot.reshape((*int_words.shape, n_labels))\n",
        "\n",
        "    return words_one_hot"
      ]
    },
    {
      "cell_type": "code",
      "execution_count": 9,
      "metadata": {
        "id": "t4ZQhskXF4xL",
        "colab": {
          "base_uri": "https://localhost:8080/"
        },
        "outputId": "24655474-2dc6-455b-a671-9bbb29a1296b"
      },
      "outputs": [
        {
          "output_type": "stream",
          "name": "stdout",
          "text": [
            "tensor([[[0., 0., 0., 1., 0., 0., 0., 0.],\n",
            "         [0., 0., 0., 0., 0., 1., 0., 0.],\n",
            "         [0., 1., 0., 0., 0., 0., 0., 0.]],\n",
            "\n",
            "        [[1., 0., 0., 0., 0., 0., 0., 0.],\n",
            "         [0., 0., 1., 0., 0., 0., 0., 0.],\n",
            "         [0., 0., 0., 0., 1., 0., 0., 0.]]])\n"
          ]
        }
      ],
      "source": [
        "# testing the function\n",
        "test_seq = torch.tensor([[3, 5, 1], [0, 2, 4]])\n",
        "test_one_hot = one_hot_encode(test_seq, 8)\n",
        "\n",
        "print(test_one_hot)"
      ]
    },
    {
      "cell_type": "markdown",
      "metadata": {
        "id": "9YyL91CuceEl"
      },
      "source": [
        "### Сформируем батчи\n",
        "На простом примере батчи будут выглядеть так: мы возьмем закодированные символы и разделим их на несколько последовательностей, заданных параметром `batch_size`. Каждая из наших последовательностей будет иметь длину `seq_length`.\n",
        "\n",
        "<img src=\"https://github.com/udacity/deep-learning-v2-pytorch/blob/master/recurrent-neural-networks/char-rnn/assets/sequence_batching@1x.png?raw=1\" width=500px>\n",
        "\n",
        "**1. Отбросим часть текста, чтобы у нас были только полные батчи**\n",
        "\n",
        "Каждый батч содержит $N \\times M$ символов, где $N$ — это количество последовательностей в батче (`batch_size`), а $M$ — длина каждой последовательности (`seq_length`). Затем, чтобы получить общее количество батчей $K$, которое мы можем сделать из последовательности, нужно разделить длину последовательности на количество символов в батче. Когда мы узнаем количество батчей, можно получить общее количество символов, которые нужно сохранить, из последовательности: $N \\times M \\times K$.\n",
        "\n",
        "**2. Разделим текст на $N$ частей**\n",
        "\n",
        "Этот шаг нужен, чтобы мы могли проходить по тексту окном размера `[batch_size, seq_len]`. Его можно реализовать при помощи простого `reshape`.\n",
        "\n",
        "**3. Теперь, когда у нас готова матрица текста, мы можем двигаться по ней окном, чтобы получить батчи**\n",
        "\n",
        "Из каждой позиции окна сформируем обучающие пары `(x, y)` следующим образом: $x$ — это все элементы окна кроме последнего столбца, а $y$ — это все элементы окна кроме первого столбца. Тем самым для каждого токена исходного текста мы будем предсказывать следующий за ним токен.\n",
        "\n",
        "#### Задание: допишите функцию генерации батчей"
      ]
    },
    {
      "cell_type": "code",
      "execution_count": 11,
      "metadata": {
        "id": "2ECftYejnvpx"
      },
      "outputs": [],
      "source": [
        "def get_batches(\n",
        "    int_words: torch.Tensor, batch_size: int, seq_length: int\n",
        ") -> Iterable[torch.Tensor]:\n",
        "    \"\"\"\n",
        "    Generates batches from encoded sequence.\n",
        "    :param int_words: tensor of ints, which represents the text; shape: [batch_size, -1]\n",
        "    :param batch_size: number of sequences per batch\n",
        "    :param seq_length: number of encoded chars in a sequence\n",
        "    :return: generator of pairs (x, y); x_shape, y_shape: [batch_size, seq_length - 1]\n",
        "    \"\"\"\n",
        "    # 1. Truncate text, so there are only full batches\n",
        "    # YOUR CODE HERE\n",
        "    window_size = seq_length + 1\n",
        "    batch_size_total = batch_size * window_size\n",
        "    n_batches = len(int_words) // batch_size_total\n",
        "    int_words = int_words[: n_batches * batch_size_total]\n",
        "\n",
        "    # 2. Reshape into batch_size rows\n",
        "    # YOUR CODE HERE\n",
        "    int_words = int_words.reshape((batch_size, -1))\n",
        "\n",
        "    # 3. Iterate through the text matrix\n",
        "    for position in range(0, int_words.shape[1], window_size):\n",
        "        # YOUR CODE HERE\n",
        "        x = int_words[:, position : position + window_size - 1]\n",
        "        y = int_words[:, position + 1 : position + window_size]\n",
        "        yield x, y"
      ]
    },
    {
      "cell_type": "code",
      "execution_count": 12,
      "metadata": {
        "id": "qtKlLXi1ceEl",
        "colab": {
          "base_uri": "https://localhost:8080/"
        },
        "outputId": "26081261-9a03-4376-b250-fd1dea1217a0"
      },
      "outputs": [
        {
          "output_type": "stream",
          "name": "stdout",
          "text": [
            "x:\n",
            "tensor([[19,  5, 50, 75, 66, 53, 11, 17, 67, 38],\n",
            "        [75, 75, 53, 41, 17, 50,  9, 41, 17, 46],\n",
            "        [66,  5, 50, 66, 17, 20,  9, 46,  3, 55],\n",
            "        [53, 44, 17, 66,  5,  3, 59, 40,  5, 66],\n",
            "        [53, 11, 82, 17,  5, 53, 17,  5, 50, 41],\n",
            "        [11, 82, 17, 44,  5,  3, 17, 44, 50, 46],\n",
            "        [46, 66, 17, 16, 53, 17, 76,  3, 68, 53],\n",
            "        [82, 17, 49, 55, 53, 34, 53, 48, 17, 49]])\n",
            "\n",
            "y:\n",
            "tensor([[ 5, 50, 75, 66, 53, 11, 17, 67, 38, 38],\n",
            "        [75, 53, 41, 17, 50,  9, 41, 17, 46,  5],\n",
            "        [ 5, 50, 66, 17, 20,  9, 46,  3, 55, 59],\n",
            "        [44, 17, 66,  5,  3, 59, 40,  5, 66,  8],\n",
            "        [11, 82, 17,  5, 53, 17,  5, 50, 41, 17],\n",
            "        [82, 17, 44,  5,  3, 17, 44, 50, 46, 17],\n",
            "        [66, 17, 16, 53, 17, 76,  3, 68, 53, 11],\n",
            "        [17, 49, 55, 53, 34, 53, 48, 17, 49, 55]])\n"
          ]
        }
      ],
      "source": [
        "# testing the function\n",
        "test_batches = get_batches(encoded, 8, 50)\n",
        "test_x, test_y = next(test_batches)\n",
        "assert test_x.shape == test_y.shape\n",
        "print(f\"x:\\n{test_x[:10, :10]}\\n\")\n",
        "print(f\"y:\\n{test_y[:10, :10]}\")"
      ]
    },
    {
      "cell_type": "markdown",
      "metadata": {
        "id": "TeaMa5fKF4xM"
      },
      "source": [
        "### Наконец, подготовим класс датасета"
      ]
    },
    {
      "cell_type": "code",
      "execution_count": 13,
      "metadata": {
        "id": "V8P8HmW8F4xM"
      },
      "outputs": [],
      "source": [
        "class AnnaData(torch.utils.data.IterableDataset):\n",
        "    def __init__(self, int_words: torch.Tensor, batch_size: int, seq_length: int):\n",
        "        self.int_words = int_words\n",
        "        self.batch_size = batch_size\n",
        "        self.seq_length = seq_length\n",
        "\n",
        "    def __iter__(self):\n",
        "        return get_batches(self.int_words, self.batch_size, self.seq_length)"
      ]
    },
    {
      "cell_type": "markdown",
      "metadata": {
        "id": "Jouxv0L2ceEl"
      },
      "source": [
        "## 2. Имплементация модели\n",
        "\n",
        "<img src=\"https://github.com/udacity/deep-learning-v2-pytorch/blob/master/recurrent-neural-networks/char-rnn/assets/charRNN.png?raw=1\" width=50%>"
      ]
    },
    {
      "cell_type": "markdown",
      "metadata": {
        "id": "E7s5eRaoceEl"
      },
      "source": [
        "### Структура модели\n",
        "\n",
        "* Создаём и храним необходимые словари.\n",
        "* Определяем слой [LSTM]((https://pytorch.org/docs/stable/generated/torch.nn.LSTM.html#torch.nn.LSTM)) с помощью инстанса класса `torch.nn.LSTM`, который принимает набор параметров: `input_size` — длина последовательности в батче; `n_hidden` — размер скрытых слоёв; `n_layers` — количество слоёв; `drop_prob` — вероятность дропаута; и `batch_first` — флаг, указывающий на то, что у входных последовательностей размерность батча идёт вдоль нулевой оси.\n",
        "* Определяем слой Dropout с таким же значением `drop_prob`.\n",
        "* Определяем полносвязный слой с набором параметров: размерность ввода — `n_hidden`; размерность выхода — размер словаря.\n",
        "* Наконец, инициализируем веса и начальное скрытое состояние (`self.init_hidden()`)."
      ]
    },
    {
      "cell_type": "code",
      "execution_count": 14,
      "metadata": {
        "id": "VPq1EA38rBqn"
      },
      "outputs": [],
      "source": [
        "class CharRNN(nn.Module):\n",
        "    def __init__(\n",
        "        self,\n",
        "        unique_tokens: Tuple[str],\n",
        "        n_hidden: int = 256,\n",
        "        n_layers: int = 2,\n",
        "        drop_prob: float = 0.5,\n",
        "    ) -> None:\n",
        "        super().__init__()\n",
        "        self.n_hidden = n_hidden\n",
        "        self.n_layers = n_layers\n",
        "        self.drop_prob = drop_prob\n",
        "\n",
        "        # create mappings\n",
        "        self.unique_tokens = unique_tokens\n",
        "        self.int2char = dict(enumerate(self.unique_tokens))\n",
        "        self.char2int = {ch: ii for ii, ch in self.int2char.items()}\n",
        "\n",
        "        ## define the LSTM, dropout and fully connected layers\n",
        "        self.lstm = nn.LSTM(\n",
        "            len(self.unique_tokens),\n",
        "            n_hidden,\n",
        "            n_layers,\n",
        "            dropout=drop_prob,\n",
        "            batch_first=True,\n",
        "        )\n",
        "        self.dropout = nn.Dropout(drop_prob)\n",
        "        self.fc = nn.Linear(n_hidden, len(self.unique_tokens))\n",
        "\n",
        "    def forward(\n",
        "        self, x: torch.Tensor, hidden: torch.Tensor\n",
        "    ) -> Tuple[torch.Tensor, torch.Tensor]:\n",
        "        r_output, hidden = self.lstm(x, hidden)\n",
        "        out = self.dropout(r_output)\n",
        "        # Stack up LSTM outputs using view. You may need to use contiguous to reshape the output.\n",
        "        out = out.contiguous().view(-1, self.n_hidden)\n",
        "        ## Get the output for classification.\n",
        "        out = self.fc(out)\n",
        "        return out, hidden\n",
        "\n",
        "    def init_hidden(\n",
        "        self, batch_size: int, weight_device: torch.device\n",
        "    ) -> Tuple[torch.Tensor]:\n",
        "        \"\"\"\n",
        "        Creates two new zero tensors for hidden state and cell state of LSTM\n",
        "        :param batch_size: number of sequences per batch\n",
        "        :param weight_device: torch.device(\"cuda\") for GPU init or torch.device(\"cpu\") for CPU init\n",
        "        :return: tuple of two tensors of shape [n_layers x batch_size x n_hidden]\n",
        "        \"\"\"\n",
        "        weight = next(self.parameters()).data\n",
        "        hidden = (\n",
        "            weight.new(self.n_layers, batch_size, self.n_hidden)\n",
        "            .zero_()\n",
        "            .to(weight_device),\n",
        "            weight.new(self.n_layers, batch_size, self.n_hidden)\n",
        "            .zero_()\n",
        "            .to(weight_device),\n",
        "        )\n",
        "        return hidden"
      ]
    },
    {
      "cell_type": "code",
      "execution_count": 15,
      "metadata": {
        "id": "Om7WKpduF4xN"
      },
      "outputs": [],
      "source": [
        "class CharRNNModule(pl.LightningModule):\n",
        "    def __init__(\n",
        "        self,\n",
        "        unique_tokens: Tuple[str],\n",
        "        n_hidden: int = 1024,\n",
        "        n_layers: int = 2,\n",
        "        drop_prob: float = 0.5,\n",
        "        batch_size: int = 128,\n",
        "        seq_length=256,\n",
        "        lr: float = 0.001,\n",
        "    ) -> None:\n",
        "        super().__init__()\n",
        "        self.model = CharRNN(unique_tokens, n_hidden, n_layers, drop_prob)\n",
        "        self.hidden = None\n",
        "        self.loss = nn.CrossEntropyLoss()\n",
        "        self.optimizer = torch.optim.Adam(self.model.parameters(), lr=lr)\n",
        "        self.n_chars = len(unique_tokens)\n",
        "        self.batch_size = batch_size\n",
        "        self.seq_length = seq_length\n",
        "\n",
        "    def training_step(\n",
        "        self, train_batch: Tuple[torch.Tensor, torch.Tensor]\n",
        "    ) -> torch.Tensor:\n",
        "        x, y = train_batch\n",
        "        x, y = x.squeeze(0), y.squeeze(0)\n",
        "        x = one_hot_encode(x, self.n_chars)\n",
        "\n",
        "        if self.hidden is None:\n",
        "            self.hidden = self.model.init_hidden(self.batch_size, self.device)\n",
        "        self.hidden = tuple([each.data for each in self.hidden])\n",
        "\n",
        "        output, self.hidden = self.model(x, self.hidden)\n",
        "        loss = self.loss(output, y.reshape(self.batch_size * self.seq_length).long())\n",
        "\n",
        "        self.log(\"train_loss\", loss, prog_bar=True)\n",
        "        return loss\n",
        "\n",
        "    def configure_optimizers(self):\n",
        "        return self.optimizer"
      ]
    },
    {
      "cell_type": "markdown",
      "metadata": {
        "id": "5IrBRlEPceEl"
      },
      "source": [
        "## 3. Обучение модели\n",
        "\n",
        "По классике, используем оптимизатор Adam и кросс-энтропию. Но без пары особенностей не обойтись:\n",
        "* Во время цикла будем отделять скрытое состояние от его истории, потому что скрытое состояние LSTM является кортежем скрытых состояний.\n",
        "* Будем использовать gradient clipping, чтобы избавиться от взрывающихся градиентов."
      ]
    },
    {
      "cell_type": "code",
      "execution_count": 18,
      "metadata": {
        "scrolled": false,
        "id": "InCNB0ICF4xN",
        "colab": {
          "base_uri": "https://localhost:8080/",
          "height": 327,
          "referenced_widgets": [
            "fc9558564ed44b22a779f38a1acd0060",
            "6fbd27f8d0594255abe9c017d30bdd13",
            "eb0f80cf3dae4c4ea7d2c806c72dc071",
            "ec519c10630d4c07be01bea5d660d847",
            "e5acac924b85422cba0edb60a908fbdf",
            "3598c1e97ecc407f9c72dd22778b9064",
            "42f3ac7354b642a8a7a7627582252915",
            "e9eb441603694d3a9f69d265101e8256",
            "22e8d8df5dab4f1db57ccf971905a599",
            "df4df1dc3e844b768b6142dc29869764",
            "f421b8a7c1b54412b587b73929df6000"
          ]
        },
        "outputId": "d6d2967b-6546-4f83-aaee-b59bdf8a7be1"
      },
      "outputs": [
        {
          "output_type": "stream",
          "name": "stderr",
          "text": [
            "INFO:pytorch_lightning.utilities.rank_zero:GPU available: False, used: False\n",
            "INFO:pytorch_lightning.utilities.rank_zero:TPU available: False, using: 0 TPU cores\n",
            "INFO:pytorch_lightning.utilities.rank_zero:IPU available: False, using: 0 IPUs\n",
            "INFO:pytorch_lightning.utilities.rank_zero:HPU available: False, using: 0 HPUs\n",
            "WARNING:pytorch_lightning.loggers.tensorboard:Missing logger folder: /content/lightning_logs\n",
            "INFO:pytorch_lightning.callbacks.model_summary:\n",
            "  | Name  | Type             | Params\n",
            "-------------------------------------------\n",
            "0 | model | CharRNN          | 13.0 M\n",
            "1 | loss  | CrossEntropyLoss | 0     \n",
            "-------------------------------------------\n",
            "13.0 M    Trainable params\n",
            "0         Non-trainable params\n",
            "13.0 M    Total params\n",
            "52.097    Total estimated model params size (MB)\n"
          ]
        },
        {
          "output_type": "display_data",
          "data": {
            "text/plain": [
              "Training: |          | 0/? [00:00<?, ?it/s]"
            ],
            "application/vnd.jupyter.widget-view+json": {
              "version_major": 2,
              "version_minor": 0,
              "model_id": "fc9558564ed44b22a779f38a1acd0060"
            }
          },
          "metadata": {}
        },
        {
          "output_type": "stream",
          "name": "stderr",
          "text": [
            "INFO:pytorch_lightning.utilities.rank_zero:`Trainer.fit` stopped: `max_epochs=1` reached.\n"
          ]
        }
      ],
      "source": [
        "# data\n",
        "train_dataset = AnnaData(encoded, batch_size=128, seq_length=256)\n",
        "train_dataloader = torch.utils.data.DataLoader(\n",
        "    train_dataset,\n",
        "    batch_size=1,  # batching is already implemented on our side\n",
        "    shuffle=False,\n",
        "    num_workers=1,  # don't change: it will lead to the wrong implementation\n",
        ")\n",
        "# model\n",
        "char_rnn = CharRNNModule(unique_chars, n_hidden=1024, batch_size=128)\n",
        "# trainer\n",
        "trainer = pl.Trainer(max_epochs=1, gradient_clip_val=1.0, accelerator=\"cpu\", devices=1)\n",
        "trainer.fit(char_rnn, train_dataloaders=train_dataloader)"
      ]
    },
    {
      "cell_type": "markdown",
      "metadata": {
        "id": "ZfZxvNoDceEm"
      },
      "source": [
        "## 4. Применение модели\n",
        "\n",
        "Сперва сохраним обученную модель, чтобы можно было загрузить её позже. В следующей ячейке сохраняются параметры, необходимые для создания той же архитектуры, гиперпараметры скрытого слоя и токены."
      ]
    },
    {
      "cell_type": "code",
      "execution_count": 25,
      "metadata": {
        "id": "q6RXl5VAceEm"
      },
      "outputs": [],
      "source": [
        "net = char_rnn.model\n",
        "checkpoint = {\n",
        "    \"n_hidden\": net.n_hidden,\n",
        "    \"n_layers\": net.n_layers,\n",
        "    \"state_dict\": net.state_dict(),\n",
        "    \"tokens\": net.unique_tokens,\n",
        "}\n",
        "\n",
        "with open(\"rnn_x_epoch.net\", \"wb\") as f:\n",
        "    torch.save(checkpoint, f)\n",
        "\n",
        "device = torch.device(\"cuda\") if torch.cuda.is_available() else torch.device(\"cpu\")"
      ]
    },
    {
      "cell_type": "markdown",
      "metadata": {
        "id": "K2sJhx5iceEm"
      },
      "source": [
        "### Делаем предсказания\n",
        "\n",
        "Сгенерируем текст! Для предсказания продолжения текста мы передаём в сеть последний символ, она предсказывает следующий символ, который мы снова передаем на вход, получаем ещё один предсказанный символ и так далее. Наши прогнозы основаны на категориальном распределении вероятностей по всем возможным символам. Мы можем ограничить число символов на каждом шаге генерации, чтобы сделать получаемый предсказанный текст более разумным, рассматривая только некоторые, наиболее вероятные символы. С одной стороны, такой подход позволит нам рассматривать не только самую вероятную последовательность с точки зрения прогноза модели. С другой стороны, мы будем работать с ограниченным набором сгенерированных вариантов, поэтому избавимся от совсем уж шумовых прогнозов. Узнать больше можно [здесь](https://pytorch.org/docs/stable/generated/torch.topk.html#torch.topk)."
      ]
    },
    {
      "cell_type": "code",
      "execution_count": 26,
      "metadata": {
        "id": "QEIRW_B2ceEm"
      },
      "outputs": [],
      "source": [
        "def predict_next_char(\n",
        "    model: torch.nn.Module, char: str, h: torch.Tensor = None, top_k: int = None\n",
        ") -> Tuple[str, torch.Tensor]:\n",
        "    \"\"\"\n",
        "    Given a character and a model, predicts next character in the sequence\n",
        "    :param model: model that outputs next token probability distribution\n",
        "    :param char: last character of the sequence to continue generation from\n",
        "    :param h: hidden state of the model\n",
        "    :param top_k: number of most probable tokens to be chosen from\n",
        "    :return: tuple of next character and new hidden state\n",
        "    \"\"\"\n",
        "    # tensor inputs\n",
        "    x = torch.tensor([[model.char2int[char]]])\n",
        "    x = one_hot_encode(x, len(model.unique_tokens))\n",
        "    x = x.to(device)\n",
        "\n",
        "    h = tuple([each.data for each in h])\n",
        "\n",
        "    out, h = model(x, h)\n",
        "\n",
        "    # get the character probabilities\n",
        "    p = torch.nn.functional.softmax(out, dim=1).data.cpu()\n",
        "\n",
        "    # get top characters\n",
        "    if top_k is None:\n",
        "        top_ch = torch.arange(len(model.unique_tokens))\n",
        "    else:\n",
        "        p, top_ch = p.topk(top_k)\n",
        "\n",
        "    p.squeeze_()\n",
        "    top_ch.squeeze_()\n",
        "    char = top_ch[torch.multinomial(p / p.sum(), 1)]\n",
        "\n",
        "    return model.int2char[char.item()], h"
      ]
    },
    {
      "cell_type": "markdown",
      "metadata": {
        "id": "OG38j3gQceEm"
      },
      "source": [
        "### Priming и генерирование текста\n",
        "\n",
        "Нужно задать скрытое состояние, чтобы сеть не генерировала произвольные символы."
      ]
    },
    {
      "cell_type": "code",
      "execution_count": 27,
      "metadata": {
        "id": "P9vpB5gRceEm"
      },
      "outputs": [],
      "source": [
        "def sample(model, size, prime=\"The\", top_k=None):\n",
        "    model.to(device)\n",
        "    model.eval()\n",
        "\n",
        "    # run through the prime characters\n",
        "    chars = [ch for ch in prime]\n",
        "    h = model.init_hidden(1, device)\n",
        "    for ch in prime:\n",
        "        char, h = predict_next_char(model, ch, h, top_k=top_k)\n",
        "\n",
        "    chars.append(char)\n",
        "\n",
        "    # pass in the previous character and get a new one\n",
        "    for ii in range(size):\n",
        "        char, h = predict_next_char(model, chars[-1], h, top_k=top_k)\n",
        "        chars.append(char)\n",
        "\n",
        "    return \"\".join(chars)"
      ]
    },
    {
      "cell_type": "code",
      "execution_count": 22,
      "metadata": {
        "id": "Ys0joturF4xO",
        "colab": {
          "base_uri": "https://localhost:8080/"
        },
        "outputId": "6e69b99f-0aa5-4b00-b6c3-8703083ba150"
      },
      "outputs": [
        {
          "output_type": "stream",
          "name": "stdout",
          "text": [
            "Anna e e a eeeoeae oa ee ae  e   ee   oaoet eato  ttoot ea oetteteee eeoo e  e ea  eoot  teeoe o eao   oa e  oae  e  ttoo ea ett   ee  atea o t  taottea eeeoeo  e tteo t tooo  t eee  a tee t eo  eet  attaoateo  e o tt teoo  ott ea otao te a o t   tot  e   e ee e oaae   oeoooea  e e aoe  oteeaot eto   atoeoea teoeet t ottae  t ooaoot eeoot eo e  te    e tee  ee e ae    e oa t  tet e  to     o t  t aoe a ete    eee ttea aoatt t taee to eoeet taeae  aeeto o   e eat eotoe tto aeaat teoataa e  eatat atta ea o o eo e et aoote    at ea   a taete tt  ea tttoeetttae  o    eto e eoe  et ae t o eea  eate oeaatat t  t a atoato   o to oee  oeea eoae   oa   teeeataea t e  aeaatae eeea ooee otttootoe  teee tte  tteat a ee a teaea at  ee  eoeoeot oeateaaoeaaaaoaoet aeo  toteo  oao  ea e oto tet    to  e  aaae  a aeeaoo  at oat aa  eteo  teateo ett  aaaet ttt eaa e to eoa    e eoe ttaaet aoeta     tao oeo o  eto o   teoaee  eoete  totottaa e etee e et   e e   e oatetotaea ooeooatt teoe aaaet   oea tet  et e\n"
          ]
        }
      ],
      "source": [
        "print(sample(net, 1000, prime=\"Anna\", top_k=5))"
      ]
    },
    {
      "cell_type": "markdown",
      "metadata": {
        "id": "942mjdQHceEm"
      },
      "source": [
        "### Загрузка чекпоинта и генерация"
      ]
    },
    {
      "cell_type": "code",
      "execution_count": 28,
      "metadata": {
        "id": "Xt9ldUuSceEm",
        "scrolled": false,
        "colab": {
          "base_uri": "https://localhost:8080/"
        },
        "outputId": "a465ef46-3aa6-43fc-e2ef-55d596d6c315"
      },
      "outputs": [
        {
          "output_type": "stream",
          "name": "stdout",
          "text": [
            "And Levin saideet  e   etto  ttae aao aaoee oe  ett e   ta a  o  a t   o    ettaett eaa eea a et    e ttoea o a   eeato t   a a ota  e    aae oo o eooee eo oe aat  toe   e ooa ooa t ete e eaoeee te to  tto   tet  o  aoe e et      aoa   aao oo   to e aaeaooattaae  etteeeeeoa ooe a  ea  a o      tte e  eeaa eoteoa o ta  e  e teteaeattaoee   ta oeate t ot ot ae oeoteo   eo t  a tee  e t a     atteoe oae o e   at t oeo    ot t teto tae t oeoe  ot ta o  e o oaeaeeea  a a otaee ttoee ete t oa te eeoe  o oea eota t tt tto ae e aettooee  o e   eo  oa aa  o  eet e   ttaea    a toeo   et o  a  attte et eaeaa e ato  ete  e t e   tetoaoot oeee e eotee e ea a o  to e    oeo  t o otea a    tt at aeoea oat  o  eo e t teee aeooaeeoot   o e aeatoa   aeo ttttae ooaoo o  aaea  teate taaatoet e oa tatoe tottaea oae  oe e ao e e t oe ee  o e aaeaaa eee   e te t toeee  o aeat  e aa   to  o ae   a t  a ae   e t aa  eoaooo aet  e oo ot eea  o a e atotetaoe  o t  t a  ttaae o e o oeta eo o teo eot   a oaota tt te ee  eeatt  e  aa eteto   e aa e a tae  tet ee ea et to e et aet at oo     ott aatto eaa   a eo oe eaeaeo o aatea eta t    ttt     e e t e o te t o   e tot eeaeoete aoe e a ae oe   ea    t eeeeteeaoaea o  o t otoe t t t  o t  etaot eettt eteeoot  eo o o aa ee   aoet  ooe t eo oaoa  tet o  a  tao   ott eeaet a e etoeoa e aettataattete   toee eeooteteoe ae o o  oteo oeootat   oet ee  o toa ttoo t e  aaaete e tee eae  eoteoa eo  taeoet t   t a  tttoae at ooea aeaaat   oae eattaatooe e e e to t ea  oeeee t eoe    otaetteeao taoeooa     tt  oeeteat ea o o   aao  e   tta ttooeoeaee a oo  ao t a  eoae  eae   oe    tae te e toe e  tao   tee t ee  ao eeoeeeoteeae at eteeetaett   ee  at  o e o    otata a   eo eeoo e   oateo a o e oeaeeaet o to  a   oe  e  a oeaao ee  a atoa ao t     tteeae et t aoo o a oaetoet t  aee  ta et eotaea oet ottt eoaa eaaeoteteaaoa  oe    eetotaot teaate   tete   aa oo o  oae  o oeeteot  taeeo  a e ta e taoa  eaaa oto  ttett o   o ta   aea e eeeooaatotaeoto taeo  ae  eet eoaeaoe  \n"
          ]
        }
      ],
      "source": [
        "with open(\"rnn_x_epoch.net\", \"rb\") as f:\n",
        "    checkpoint = torch.load(f)\n",
        "\n",
        "loaded = CharRNN(\n",
        "    checkpoint[\"tokens\"],\n",
        "    n_hidden=checkpoint[\"n_hidden\"],\n",
        "    n_layers=checkpoint[\"n_layers\"],\n",
        ")\n",
        "loaded.load_state_dict(checkpoint[\"state_dict\"])\n",
        "\n",
        "# sample using a loaded model\n",
        "print(sample(loaded, 2000, top_k=5, prime=\"And Levin said\"))"
      ]
    }
  ],
  "metadata": {
    "colab": {
      "provenance": [],
      "gpuType": "T4",
      "include_colab_link": true
    },
    "kernelspec": {
      "display_name": "Python 3",
      "name": "python3"
    },
    "language_info": {
      "codemirror_mode": {
        "name": "ipython",
        "version": 3
      },
      "file_extension": ".py",
      "mimetype": "text/x-python",
      "name": "python",
      "nbconvert_exporter": "python",
      "pygments_lexer": "ipython3",
      "version": "3.8.8"
    },
    "accelerator": "GPU",
    "widgets": {
      "application/vnd.jupyter.widget-state+json": {
        "fc9558564ed44b22a779f38a1acd0060": {
          "model_module": "@jupyter-widgets/controls",
          "model_name": "HBoxModel",
          "model_module_version": "1.5.0",
          "state": {
            "_dom_classes": [],
            "_model_module": "@jupyter-widgets/controls",
            "_model_module_version": "1.5.0",
            "_model_name": "HBoxModel",
            "_view_count": null,
            "_view_module": "@jupyter-widgets/controls",
            "_view_module_version": "1.5.0",
            "_view_name": "HBoxView",
            "box_style": "",
            "children": [
              "IPY_MODEL_6fbd27f8d0594255abe9c017d30bdd13",
              "IPY_MODEL_eb0f80cf3dae4c4ea7d2c806c72dc071",
              "IPY_MODEL_ec519c10630d4c07be01bea5d660d847"
            ],
            "layout": "IPY_MODEL_e5acac924b85422cba0edb60a908fbdf"
          }
        },
        "6fbd27f8d0594255abe9c017d30bdd13": {
          "model_module": "@jupyter-widgets/controls",
          "model_name": "HTMLModel",
          "model_module_version": "1.5.0",
          "state": {
            "_dom_classes": [],
            "_model_module": "@jupyter-widgets/controls",
            "_model_module_version": "1.5.0",
            "_model_name": "HTMLModel",
            "_view_count": null,
            "_view_module": "@jupyter-widgets/controls",
            "_view_module_version": "1.5.0",
            "_view_name": "HTMLView",
            "description": "",
            "description_tooltip": null,
            "layout": "IPY_MODEL_3598c1e97ecc407f9c72dd22778b9064",
            "placeholder": "​",
            "style": "IPY_MODEL_42f3ac7354b642a8a7a7627582252915",
            "value": "Epoch 0: "
          }
        },
        "eb0f80cf3dae4c4ea7d2c806c72dc071": {
          "model_module": "@jupyter-widgets/controls",
          "model_name": "FloatProgressModel",
          "model_module_version": "1.5.0",
          "state": {
            "_dom_classes": [],
            "_model_module": "@jupyter-widgets/controls",
            "_model_module_version": "1.5.0",
            "_model_name": "FloatProgressModel",
            "_view_count": null,
            "_view_module": "@jupyter-widgets/controls",
            "_view_module_version": "1.5.0",
            "_view_name": "ProgressView",
            "bar_style": "success",
            "description": "",
            "description_tooltip": null,
            "layout": "IPY_MODEL_e9eb441603694d3a9f69d265101e8256",
            "max": 1,
            "min": 0,
            "orientation": "horizontal",
            "style": "IPY_MODEL_22e8d8df5dab4f1db57ccf971905a599",
            "value": 1
          }
        },
        "ec519c10630d4c07be01bea5d660d847": {
          "model_module": "@jupyter-widgets/controls",
          "model_name": "HTMLModel",
          "model_module_version": "1.5.0",
          "state": {
            "_dom_classes": [],
            "_model_module": "@jupyter-widgets/controls",
            "_model_module_version": "1.5.0",
            "_model_name": "HTMLModel",
            "_view_count": null,
            "_view_module": "@jupyter-widgets/controls",
            "_view_module_version": "1.5.0",
            "_view_name": "HTMLView",
            "description": "",
            "description_tooltip": null,
            "layout": "IPY_MODEL_df4df1dc3e844b768b6142dc29869764",
            "placeholder": "​",
            "style": "IPY_MODEL_f421b8a7c1b54412b587b73929df6000",
            "value": " 60/? [53:05&lt;00:00,  0.02it/s, v_num=0, train_loss=3.130]"
          }
        },
        "e5acac924b85422cba0edb60a908fbdf": {
          "model_module": "@jupyter-widgets/base",
          "model_name": "LayoutModel",
          "model_module_version": "1.2.0",
          "state": {
            "_model_module": "@jupyter-widgets/base",
            "_model_module_version": "1.2.0",
            "_model_name": "LayoutModel",
            "_view_count": null,
            "_view_module": "@jupyter-widgets/base",
            "_view_module_version": "1.2.0",
            "_view_name": "LayoutView",
            "align_content": null,
            "align_items": null,
            "align_self": null,
            "border": null,
            "bottom": null,
            "display": "inline-flex",
            "flex": null,
            "flex_flow": "row wrap",
            "grid_area": null,
            "grid_auto_columns": null,
            "grid_auto_flow": null,
            "grid_auto_rows": null,
            "grid_column": null,
            "grid_gap": null,
            "grid_row": null,
            "grid_template_areas": null,
            "grid_template_columns": null,
            "grid_template_rows": null,
            "height": null,
            "justify_content": null,
            "justify_items": null,
            "left": null,
            "margin": null,
            "max_height": null,
            "max_width": null,
            "min_height": null,
            "min_width": null,
            "object_fit": null,
            "object_position": null,
            "order": null,
            "overflow": null,
            "overflow_x": null,
            "overflow_y": null,
            "padding": null,
            "right": null,
            "top": null,
            "visibility": null,
            "width": "100%"
          }
        },
        "3598c1e97ecc407f9c72dd22778b9064": {
          "model_module": "@jupyter-widgets/base",
          "model_name": "LayoutModel",
          "model_module_version": "1.2.0",
          "state": {
            "_model_module": "@jupyter-widgets/base",
            "_model_module_version": "1.2.0",
            "_model_name": "LayoutModel",
            "_view_count": null,
            "_view_module": "@jupyter-widgets/base",
            "_view_module_version": "1.2.0",
            "_view_name": "LayoutView",
            "align_content": null,
            "align_items": null,
            "align_self": null,
            "border": null,
            "bottom": null,
            "display": null,
            "flex": null,
            "flex_flow": null,
            "grid_area": null,
            "grid_auto_columns": null,
            "grid_auto_flow": null,
            "grid_auto_rows": null,
            "grid_column": null,
            "grid_gap": null,
            "grid_row": null,
            "grid_template_areas": null,
            "grid_template_columns": null,
            "grid_template_rows": null,
            "height": null,
            "justify_content": null,
            "justify_items": null,
            "left": null,
            "margin": null,
            "max_height": null,
            "max_width": null,
            "min_height": null,
            "min_width": null,
            "object_fit": null,
            "object_position": null,
            "order": null,
            "overflow": null,
            "overflow_x": null,
            "overflow_y": null,
            "padding": null,
            "right": null,
            "top": null,
            "visibility": null,
            "width": null
          }
        },
        "42f3ac7354b642a8a7a7627582252915": {
          "model_module": "@jupyter-widgets/controls",
          "model_name": "DescriptionStyleModel",
          "model_module_version": "1.5.0",
          "state": {
            "_model_module": "@jupyter-widgets/controls",
            "_model_module_version": "1.5.0",
            "_model_name": "DescriptionStyleModel",
            "_view_count": null,
            "_view_module": "@jupyter-widgets/base",
            "_view_module_version": "1.2.0",
            "_view_name": "StyleView",
            "description_width": ""
          }
        },
        "e9eb441603694d3a9f69d265101e8256": {
          "model_module": "@jupyter-widgets/base",
          "model_name": "LayoutModel",
          "model_module_version": "1.2.0",
          "state": {
            "_model_module": "@jupyter-widgets/base",
            "_model_module_version": "1.2.0",
            "_model_name": "LayoutModel",
            "_view_count": null,
            "_view_module": "@jupyter-widgets/base",
            "_view_module_version": "1.2.0",
            "_view_name": "LayoutView",
            "align_content": null,
            "align_items": null,
            "align_self": null,
            "border": null,
            "bottom": null,
            "display": null,
            "flex": "2",
            "flex_flow": null,
            "grid_area": null,
            "grid_auto_columns": null,
            "grid_auto_flow": null,
            "grid_auto_rows": null,
            "grid_column": null,
            "grid_gap": null,
            "grid_row": null,
            "grid_template_areas": null,
            "grid_template_columns": null,
            "grid_template_rows": null,
            "height": null,
            "justify_content": null,
            "justify_items": null,
            "left": null,
            "margin": null,
            "max_height": null,
            "max_width": null,
            "min_height": null,
            "min_width": null,
            "object_fit": null,
            "object_position": null,
            "order": null,
            "overflow": null,
            "overflow_x": null,
            "overflow_y": null,
            "padding": null,
            "right": null,
            "top": null,
            "visibility": null,
            "width": null
          }
        },
        "22e8d8df5dab4f1db57ccf971905a599": {
          "model_module": "@jupyter-widgets/controls",
          "model_name": "ProgressStyleModel",
          "model_module_version": "1.5.0",
          "state": {
            "_model_module": "@jupyter-widgets/controls",
            "_model_module_version": "1.5.0",
            "_model_name": "ProgressStyleModel",
            "_view_count": null,
            "_view_module": "@jupyter-widgets/base",
            "_view_module_version": "1.2.0",
            "_view_name": "StyleView",
            "bar_color": null,
            "description_width": ""
          }
        },
        "df4df1dc3e844b768b6142dc29869764": {
          "model_module": "@jupyter-widgets/base",
          "model_name": "LayoutModel",
          "model_module_version": "1.2.0",
          "state": {
            "_model_module": "@jupyter-widgets/base",
            "_model_module_version": "1.2.0",
            "_model_name": "LayoutModel",
            "_view_count": null,
            "_view_module": "@jupyter-widgets/base",
            "_view_module_version": "1.2.0",
            "_view_name": "LayoutView",
            "align_content": null,
            "align_items": null,
            "align_self": null,
            "border": null,
            "bottom": null,
            "display": null,
            "flex": null,
            "flex_flow": null,
            "grid_area": null,
            "grid_auto_columns": null,
            "grid_auto_flow": null,
            "grid_auto_rows": null,
            "grid_column": null,
            "grid_gap": null,
            "grid_row": null,
            "grid_template_areas": null,
            "grid_template_columns": null,
            "grid_template_rows": null,
            "height": null,
            "justify_content": null,
            "justify_items": null,
            "left": null,
            "margin": null,
            "max_height": null,
            "max_width": null,
            "min_height": null,
            "min_width": null,
            "object_fit": null,
            "object_position": null,
            "order": null,
            "overflow": null,
            "overflow_x": null,
            "overflow_y": null,
            "padding": null,
            "right": null,
            "top": null,
            "visibility": null,
            "width": null
          }
        },
        "f421b8a7c1b54412b587b73929df6000": {
          "model_module": "@jupyter-widgets/controls",
          "model_name": "DescriptionStyleModel",
          "model_module_version": "1.5.0",
          "state": {
            "_model_module": "@jupyter-widgets/controls",
            "_model_module_version": "1.5.0",
            "_model_name": "DescriptionStyleModel",
            "_view_count": null,
            "_view_module": "@jupyter-widgets/base",
            "_view_module_version": "1.2.0",
            "_view_name": "StyleView",
            "description_width": ""
          }
        }
      }
    }
  },
  "nbformat": 4,
  "nbformat_minor": 0
}